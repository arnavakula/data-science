{
 "cells": [
  {
   "cell_type": "code",
   "execution_count": 2,
   "id": "3c067f96",
   "metadata": {},
   "outputs": [],
   "source": [
    "import matplotlib.pyplot as plt\n",
    "from matplotlib import style\n",
    "%matplotlib inline\n",
    "import numpy as np"
   ]
  },
  {
   "cell_type": "code",
   "execution_count": 28,
   "id": "62fdcad9",
   "metadata": {},
   "outputs": [],
   "source": [
    "def get_rand():\n",
    "    return ((np.random.rand(10) * 100)) + 1"
   ]
  },
  {
   "cell_type": "code",
   "execution_count": 30,
   "id": "5a0308df",
   "metadata": {},
   "outputs": [],
   "source": [
    "r1 = get_rand()\n",
    "r2 = get_rand()\n",
    "r3 = get_rand()\n",
    "r4 = get_rand()"
   ]
  },
  {
   "cell_type": "code",
   "execution_count": null,
   "id": "8d214746",
   "metadata": {},
   "outputs": [],
   "source": []
  },
  {
   "cell_type": "code",
   "execution_count": null,
   "id": "ea657efa",
   "metadata": {},
   "outputs": [],
   "source": []
  }
 ],
 "metadata": {
  "kernelspec": {
   "display_name": "Python 3 (ipykernel)",
   "language": "python",
   "name": "python3"
  },
  "language_info": {
   "codemirror_mode": {
    "name": "ipython",
    "version": 3
   },
   "file_extension": ".py",
   "mimetype": "text/x-python",
   "name": "python",
   "nbconvert_exporter": "python",
   "pygments_lexer": "ipython3",
   "version": "3.9.7"
  }
 },
 "nbformat": 4,
 "nbformat_minor": 5
}

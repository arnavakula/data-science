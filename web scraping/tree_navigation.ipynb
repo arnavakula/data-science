{
 "cells": [
  {
   "cell_type": "code",
   "execution_count": 1,
   "id": "835460b9",
   "metadata": {},
   "outputs": [],
   "source": [
    "from bs4 import BeautifulSoup"
   ]
  },
  {
   "cell_type": "code",
   "execution_count": 9,
   "id": "a1b46218",
   "metadata": {},
   "outputs": [],
   "source": [
    "book_html_doc = \"\"\"<catalog>\n",
    "<head><title>The web book catalog </title></head>\n",
    "<p class=\"title\"><b>The Book Catalog</b></p>\n",
    "    <books>\n",
    "    <book id=\"bk001\">\n",
    "      <author>Hightower, Kim</author>\n",
    "      <title>The First Book</title>\n",
    "      <genre>Fiction</genre>\n",
    "      <price>44.95</price>\n",
    "      <pub_date>2000-10-01</pub_date>\n",
    "      <review>An amazing story of nothing.</review>\n",
    "   </book>\n",
    "\n",
    "   <book>\n",
    "      <author>Nagata, Suanne</author>\n",
    "      <title>Becoming Somebody</title>\n",
    "      <genre>Biography</genre>\n",
    "      <review>A masterpiece of the fine art of gossiping.</review>\n",
    "   </book>\n",
    "   \n",
    "      <book>\n",
    "      <author>Nagata, Suanne</author>\n",
    "      <title>Becoming Somebody</title>\n",
    "      <genre>Biography</genre>\n",
    "      <price>44.95</price>\n",
    "      <review>A masterpiece of the fine art of gossiping.</review>\n",
    "   </book></books></catalog>\"\"\""
   ]
  },
  {
   "cell_type": "code",
   "execution_count": 10,
   "id": "0d4a09a0",
   "metadata": {},
   "outputs": [
    {
     "data": {
      "text/plain": [
       "[<catalog>\n",
       " <head><title>The web book catalog </title></head>\n",
       " <p class=\"title\"><b>The Book Catalog</b></p>\n",
       " <books>\n",
       " <book id=\"bk001\">\n",
       " <author>Hightower, Kim</author>\n",
       " <title>The First Book</title>\n",
       " <genre>Fiction</genre>\n",
       " <price>44.95</price>\n",
       " <pub_date>2000-10-01</pub_date>\n",
       " <review>An amazing story of nothing.</review>\n",
       " </book>\n",
       " <book>\n",
       " <author>Nagata, Suanne</author>\n",
       " <title>Becoming Somebody</title>\n",
       " <genre>Biography</genre>\n",
       " <review>A masterpiece of the fine art of gossiping.</review>\n",
       " </book>\n",
       " <book>\n",
       " <author>Nagata, Suanne</author>\n",
       " <title>Becoming Somebody</title>\n",
       " <genre>Biography</genre>\n",
       " <price>44.95</price>\n",
       " <review>A masterpiece of the fine art of gossiping.</review>\n",
       " </book></books></catalog>]"
      ]
     },
     "execution_count": 10,
     "metadata": {},
     "output_type": "execute_result"
    }
   ],
   "source": [
    "soup = BeautifulSoup(book_html_doc, 'html.parser')\n",
    "soup.contents"
   ]
  },
  {
   "cell_type": "code",
   "execution_count": 12,
   "id": "ea1eea39",
   "metadata": {},
   "outputs": [
    {
     "data": {
      "text/plain": [
       "<catalog>\n",
       "<head><title>The web book catalog </title></head>\n",
       "<p class=\"title\"><b>The Book Catalog</b></p>\n",
       "<books>\n",
       "<book id=\"bk001\">\n",
       "<author>Hightower, Kim</author>\n",
       "<title>The First Book</title>\n",
       "<genre>Fiction</genre>\n",
       "<price>44.95</price>\n",
       "<pub_date>2000-10-01</pub_date>\n",
       "<review>An amazing story of nothing.</review>\n",
       "</book>\n",
       "<book>\n",
       "<author>Nagata, Suanne</author>\n",
       "<title>Becoming Somebody</title>\n",
       "<genre>Biography</genre>\n",
       "<review>A masterpiece of the fine art of gossiping.</review>\n",
       "</book>\n",
       "<book>\n",
       "<author>Nagata, Suanne</author>\n",
       "<title>Becoming Somebody</title>\n",
       "<genre>Biography</genre>\n",
       "<price>44.95</price>\n",
       "<review>A masterpiece of the fine art of gossiping.</review>\n",
       "</book></books></catalog>"
      ]
     },
     "execution_count": 12,
     "metadata": {},
     "output_type": "execute_result"
    }
   ],
   "source": [
    "soup.catalog"
   ]
  },
  {
   "cell_type": "code",
   "execution_count": 19,
   "id": "0418c194",
   "metadata": {},
   "outputs": [
    {
     "data": {
      "text/plain": [
       "<head><title>The web book catalog </title></head>"
      ]
     },
     "execution_count": 19,
     "metadata": {},
     "output_type": "execute_result"
    }
   ],
   "source": [
    "soup.head"
   ]
  },
  {
   "cell_type": "code",
   "execution_count": 20,
   "id": "5cf8ae7a",
   "metadata": {},
   "outputs": [
    {
     "data": {
      "text/plain": [
       "<title>The web book catalog </title>"
      ]
     },
     "execution_count": 20,
     "metadata": {},
     "output_type": "execute_result"
    }
   ],
   "source": [
    "soup.title"
   ]
  },
  {
   "cell_type": "code",
   "execution_count": 31,
   "id": "17f58f58",
   "metadata": {},
   "outputs": [
    {
     "data": {
      "text/plain": [
       "<title>The web book catalog </title>"
      ]
     },
     "execution_count": 31,
     "metadata": {},
     "output_type": "execute_result"
    }
   ],
   "source": [
    "title_tag = soup.find('title')\n",
    "title_tag"
   ]
  },
  {
   "cell_type": "code",
   "execution_count": 27,
   "id": "efa34dab",
   "metadata": {},
   "outputs": [
    {
     "name": "stdout",
     "output_type": "stream",
     "text": [
      "'The web book catalog'\n",
      "'The Book Catalog'\n",
      "'Hightower, Kim'\n",
      "'The First Book'\n",
      "'Fiction'\n",
      "'44.95'\n",
      "'2000-10-01'\n",
      "'An amazing story of nothing.'\n",
      "'Nagata, Suanne'\n",
      "'Becoming Somebody'\n",
      "'Biography'\n",
      "'A masterpiece of the fine art of gossiping.'\n",
      "'Nagata, Suanne'\n",
      "'Becoming Somebody'\n",
      "'Biography'\n",
      "'44.95'\n",
      "'A masterpiece of the fine art of gossiping.'\n"
     ]
    }
   ],
   "source": [
    "#navigate downwards using stripped string method\n",
    "for string in soup.stripped_strings:\n",
    "    print(repr(string))"
   ]
  },
  {
   "cell_type": "code",
   "execution_count": 32,
   "id": "6335eab3",
   "metadata": {},
   "outputs": [
    {
     "data": {
      "text/plain": [
       "<head><title>The web book catalog </title></head>"
      ]
     },
     "execution_count": 32,
     "metadata": {},
     "output_type": "execute_result"
    }
   ],
   "source": [
    "#navigate up using parent method\n",
    "title_tag.parent #=surrounding head tag"
   ]
  },
  {
   "cell_type": "code",
   "execution_count": 33,
   "id": "6bfd5843",
   "metadata": {},
   "outputs": [
    {
     "data": {
      "text/plain": [
       "bs4.element.Tag"
      ]
     },
     "execution_count": 33,
     "metadata": {},
     "output_type": "execute_result"
    }
   ],
   "source": [
    "element_soup = soup.catalog.books\n",
    "type(element_soup)"
   ]
  },
  {
   "cell_type": "code",
   "execution_count": 40,
   "id": "c793a00d",
   "metadata": {},
   "outputs": [
    {
     "data": {
      "text/plain": [
       "<book id=\"bk001\">\n",
       "<author>Hightower, Kim</author>\n",
       "<title>The First Book</title>\n",
       "<genre>Fiction</genre>\n",
       "<price>44.95</price>\n",
       "<pub_date>2000-10-01</pub_date>\n",
       "<review>An amazing story of nothing.</review>\n",
       "</book>"
      ]
     },
     "execution_count": 40,
     "metadata": {},
     "output_type": "execute_result"
    }
   ],
   "source": [
    "next_element = element_soup.next_element #type = navigableString\n",
    "next_element.next_element #type = tag"
   ]
  },
  {
   "cell_type": "code",
   "execution_count": 46,
   "id": "24e9f951",
   "metadata": {},
   "outputs": [
    {
     "data": {
      "text/plain": [
       "'\\n'"
      ]
     },
     "execution_count": 46,
     "metadata": {},
     "output_type": "execute_result"
    }
   ],
   "source": [
    "prev_element = next_element.previous_element.previous_element\n",
    "prev_element"
   ]
  },
  {
   "cell_type": "code",
   "execution_count": 47,
   "id": "d219f50c",
   "metadata": {},
   "outputs": [
    {
     "name": "stdout",
     "output_type": "stream",
     "text": [
      "<book id=\"bk001\">\n",
      "<author>Hightower, Kim</author>\n",
      "<title>The First Book</title>\n",
      "<genre>Fiction</genre>\n",
      "<price>44.95</price>\n",
      "<pub_date>2000-10-01</pub_date>\n",
      "<review>An amazing story of nothing.</review>\n",
      "</book>\n"
     ]
    }
   ],
   "source": [
    "#sideways navigation\n",
    "book = element_soup.next_element.next_element\n",
    "print(book) #first book in our catalog"
   ]
  },
  {
   "cell_type": "code",
   "execution_count": 48,
   "id": "95628211",
   "metadata": {},
   "outputs": [
    {
     "data": {
      "text/plain": [
       "<book>\n",
       "<author>Nagata, Suanne</author>\n",
       "<title>Becoming Somebody</title>\n",
       "<genre>Biography</genre>\n",
       "<review>A masterpiece of the fine art of gossiping.</review>\n",
       "</book>"
      ]
     },
     "execution_count": 48,
     "metadata": {},
     "output_type": "execute_result"
    }
   ],
   "source": [
    "book2 = book.next_sibling.next_sibling\n",
    "book2 #second book in our catalog"
   ]
  },
  {
   "cell_type": "code",
   "execution_count": 49,
   "id": "3f538016",
   "metadata": {},
   "outputs": [
    {
     "data": {
      "text/plain": [
       "<book id=\"bk001\">\n",
       "<author>Hightower, Kim</author>\n",
       "<title>The First Book</title>\n",
       "<genre>Fiction</genre>\n",
       "<price>44.95</price>\n",
       "<pub_date>2000-10-01</pub_date>\n",
       "<review>An amazing story of nothing.</review>\n",
       "</book>"
      ]
     },
     "execution_count": 49,
     "metadata": {},
     "output_type": "execute_result"
    }
   ],
   "source": [
    "book2.previous_sibling.previous_sibling #back to first book"
   ]
  },
  {
   "cell_type": "code",
   "execution_count": null,
   "id": "7cbff843",
   "metadata": {},
   "outputs": [],
   "source": []
  }
 ],
 "metadata": {
  "kernelspec": {
   "display_name": "Python 3 (ipykernel)",
   "language": "python",
   "name": "python3"
  },
  "language_info": {
   "codemirror_mode": {
    "name": "ipython",
    "version": 3
   },
   "file_extension": ".py",
   "mimetype": "text/x-python",
   "name": "python",
   "nbconvert_exporter": "python",
   "pygments_lexer": "ipython3",
   "version": "3.9.7"
  }
 },
 "nbformat": 4,
 "nbformat_minor": 5
}

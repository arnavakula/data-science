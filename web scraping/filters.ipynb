{
 "cells": [
  {
   "cell_type": "code",
   "execution_count": 1,
   "id": "b5207073",
   "metadata": {},
   "outputs": [],
   "source": [
    "from bs4 import BeautifulSoup"
   ]
  },
  {
   "cell_type": "code",
   "execution_count": 2,
   "id": "f5f7dbc9",
   "metadata": {},
   "outputs": [],
   "source": [
    "HTMLfilepath = 'web_scraping_example.html'\n",
    "with open(HTMLfilepath, 'r') as organization:\n",
    "    soup = BeautifulSoup(organization, 'lxml')"
   ]
  },
  {
   "cell_type": "code",
   "execution_count": 3,
   "id": "49582e1b",
   "metadata": {},
   "outputs": [
    {
     "data": {
      "text/plain": [
       "[<html>\n",
       " <body>\n",
       " <div class=\"oraganization\">\n",
       " <ul id=\"HR\">\n",
       " <li class=\"HRmanager\">\n",
       " <div class=\"name\">Jack</div>\n",
       " <div class=\"ID\">101</div>\n",
       " </li>\n",
       " <li class=\"HRmanager\">\n",
       " <div class=\"name\">Daren</div>\n",
       " <div class=\"ID\">65</div>\n",
       " </li>\n",
       " </ul>\n",
       " <ul id=\"IT\">\n",
       " <li class=\"ITmanager\">\n",
       " <div class=\"name\">Morris</div>\n",
       " <div class=\"ID\">39</div>\n",
       " </li>\n",
       " <li class=\"ITmanager\">\n",
       " <div class=\"name\">Jane</div>\n",
       " <div class=\"ID\">11</div>\n",
       " </li>\n",
       " </ul>\n",
       " <ul id=\"Finance\">\n",
       " <li class=\"accountmanager\">\n",
       " <div class=\"name\">Tom</div>\n",
       " <div class=\"ID\">22</div>\n",
       " </li>\n",
       " <li class=\"accountmanager\">\n",
       " <div class=\"name\">Kelly</div>\n",
       " <div class=\"ID\">95</div>\n",
       " </li>\n",
       " </ul>\n",
       " </div>\n",
       " </body>\n",
       " </html>]"
      ]
     },
     "execution_count": 3,
     "metadata": {},
     "output_type": "execute_result"
    }
   ],
   "source": [
    "soup.contents"
   ]
  },
  {
   "cell_type": "code",
   "execution_count": 6,
   "id": "5173ce15",
   "metadata": {},
   "outputs": [
    {
     "name": "stdout",
     "output_type": "stream",
     "text": [
      "<li class=\"HRmanager\">\n",
      "<div class=\"name\">Jack</div>\n",
      "<div class=\"ID\">101</div>\n",
      "</li>\n"
     ]
    }
   ],
   "source": [
    "tag_li = soup.find('li') #type = tag FOR LI\n",
    "print(tag_li)"
   ]
  },
  {
   "cell_type": "code",
   "execution_count": 9,
   "id": "02881662",
   "metadata": {},
   "outputs": [
    {
     "name": "stdout",
     "output_type": "stream",
     "text": [
      "<ul id=\"HR\">\n",
      "<li class=\"HRmanager\">\n",
      "<div class=\"name\">Jack</div>\n",
      "<div class=\"ID\">101</div>\n",
      "</li>\n",
      "<li class=\"HRmanager\">\n",
      "<div class=\"name\">Daren</div>\n",
      "<div class=\"ID\">65</div>\n",
      "</li>\n",
      "</ul>\n"
     ]
    }
   ],
   "source": [
    "#look for certain label (ex. id = HR)\n",
    "find_id = soup.find(id='HR')\n",
    "print(find_id)"
   ]
  },
  {
   "cell_type": "code",
   "execution_count": 12,
   "id": "79e27d0f",
   "metadata": {},
   "outputs": [
    {
     "data": {
      "text/plain": [
       "'Jack'"
      ]
     },
     "execution_count": 12,
     "metadata": {},
     "output_type": "execute_result"
    }
   ],
   "source": [
    "find_id.li.div.string"
   ]
  },
  {
   "cell_type": "code",
   "execution_count": 15,
   "id": "c884992c",
   "metadata": {},
   "outputs": [
    {
     "name": "stdout",
     "output_type": "stream",
     "text": [
      "['Jack', 'Daren', 'Kelly']\n"
     ]
    }
   ],
   "source": [
    "#find all strings\n",
    "all_strings = soup.find_all(text=['Kelly', 'Jack', 'Daren', 'Arnav'])\n",
    "print(all_strings)"
   ]
  },
  {
   "cell_type": "code",
   "execution_count": 16,
   "id": "cd08f978",
   "metadata": {},
   "outputs": [
    {
     "name": "stdout",
     "output_type": "stream",
     "text": [
      "<li class=\"ITmanager\">\n",
      "<div class=\"name\">Morris</div>\n",
      "<div class=\"ID\">39</div>\n",
      "</li>\n"
     ]
    }
   ],
   "source": [
    "#look for a certain css attribute\n",
    "css_class_search = soup.find(attrs = {'class':'ITmanager'})\n",
    "print(css_class_search)"
   ]
  },
  {
   "cell_type": "code",
   "execution_count": 17,
   "id": "696267b1",
   "metadata": {},
   "outputs": [],
   "source": [
    "#use function to filter through doc\n",
    "def is_account_manager(tag):\n",
    "    return tag.has_attr('id') and tag.get('id') == 'Finance'"
   ]
  },
  {
   "cell_type": "code",
   "execution_count": 20,
   "id": "e884e0fc",
   "metadata": {},
   "outputs": [
    {
     "name": "stdout",
     "output_type": "stream",
     "text": [
      "<ul id=\"Finance\">\n",
      "<li class=\"accountmanager\">\n",
      "<div class=\"name\">Tom</div>\n",
      "<div class=\"ID\">22</div>\n",
      "</li>\n",
      "<li class=\"accountmanager\">\n",
      "<div class=\"name\">Kelly</div>\n",
      "<div class=\"ID\">95</div>\n",
      "</li>\n",
      "</ul>\n"
     ]
    }
   ],
   "source": [
    "account_managers = soup.find(is_account_manager)\n",
    "print(account_managers)"
   ]
  },
  {
   "cell_type": "code",
   "execution_count": 24,
   "id": "4b7515cc",
   "metadata": {},
   "outputs": [
    {
     "name": "stdout",
     "output_type": "stream",
     "text": [
      "Tom\n"
     ]
    }
   ],
   "source": [
    "print(account_managers.li.div.string)"
   ]
  },
  {
   "cell_type": "code",
   "execution_count": 25,
   "id": "4c4e5794",
   "metadata": {},
   "outputs": [
    {
     "name": "stdout",
     "output_type": "stream",
     "text": [
      "html\n",
      "body\n",
      "div\n",
      "ul\n",
      "li\n",
      "div\n",
      "div\n",
      "li\n",
      "div\n",
      "div\n",
      "ul\n",
      "li\n",
      "div\n",
      "div\n",
      "li\n",
      "div\n",
      "div\n",
      "ul\n",
      "li\n",
      "div\n",
      "div\n",
      "li\n",
      "div\n",
      "div\n"
     ]
    }
   ],
   "source": [
    "#findAll(True) returns all the tags present in a doc\n",
    "for tag in soup.find_all(True):\n",
    "    print(tag.name)"
   ]
  },
  {
   "cell_type": "code",
   "execution_count": 27,
   "id": "afe00432",
   "metadata": {},
   "outputs": [
    {
     "name": "stdout",
     "output_type": "stream",
     "text": [
      "[<li class=\"HRmanager\">\n",
      "<div class=\"name\">Jack</div>\n",
      "<div class=\"ID\">101</div>\n",
      "</li>, <li class=\"HRmanager\">\n",
      "<div class=\"name\">Daren</div>\n",
      "<div class=\"ID\">65</div>\n",
      "</li>]\n"
     ]
    }
   ],
   "source": [
    "#find_all for a certain class\n",
    "all_hr = soup.find_all(class_='HRmanager')\n",
    "print(all_hr)"
   ]
  },
  {
   "cell_type": "code",
   "execution_count": 29,
   "id": "44dbff47",
   "metadata": {},
   "outputs": [
    {
     "data": {
      "text/plain": [
       "bs4.element.ResultSet"
      ]
     },
     "execution_count": 29,
     "metadata": {},
     "output_type": "execute_result"
    }
   ],
   "source": [
    "type(all_hr)"
   ]
  },
  {
   "cell_type": "code",
   "execution_count": 33,
   "id": "bc00c88b",
   "metadata": {},
   "outputs": [
    {
     "name": "stdout",
     "output_type": "stream",
     "text": [
      "[<ul id=\"HR\">\n",
      "<li class=\"HRmanager\">\n",
      "<div class=\"name\">Jack</div>\n",
      "<div class=\"ID\">101</div>\n",
      "</li>\n",
      "<li class=\"HRmanager\">\n",
      "<div class=\"name\">Daren</div>\n",
      "<div class=\"ID\">65</div>\n",
      "</li>\n",
      "</ul>]\n"
     ]
    }
   ],
   "source": [
    "#filter through all_hr[0] (first tag)\n",
    "all_hr_parent = all_hr[0].find_parents('ul')\n",
    "print(all_hr_parent)"
   ]
  },
  {
   "cell_type": "code",
   "execution_count": 35,
   "id": "5f0687da",
   "metadata": {},
   "outputs": [
    {
     "name": "stdout",
     "output_type": "stream",
     "text": [
      "<ul id=\"IT\">\n",
      "<li class=\"ITmanager\">\n",
      "<div class=\"name\">Morris</div>\n",
      "<div class=\"ID\">39</div>\n",
      "</li>\n",
      "<li class=\"ITmanager\">\n",
      "<div class=\"name\">Jane</div>\n",
      "<div class=\"ID\">11</div>\n",
      "</li>\n",
      "</ul>\n"
     ]
    }
   ],
   "source": [
    "org = soup.find(id='IT')\n",
    "print(org)"
   ]
  },
  {
   "cell_type": "code",
   "execution_count": 36,
   "id": "60d6e444",
   "metadata": {},
   "outputs": [
    {
     "name": "stdout",
     "output_type": "stream",
     "text": [
      "[<ul id=\"Finance\">\n",
      "<li class=\"accountmanager\">\n",
      "<div class=\"name\">Tom</div>\n",
      "<div class=\"ID\">22</div>\n",
      "</li>\n",
      "<li class=\"accountmanager\">\n",
      "<div class=\"name\">Kelly</div>\n",
      "<div class=\"ID\">95</div>\n",
      "</li>\n",
      "</ul>]\n"
     ]
    }
   ],
   "source": [
    "next_sibling = org.find_next_siblings()\n",
    "print(next_sibling)"
   ]
  },
  {
   "cell_type": "code",
   "execution_count": 37,
   "id": "139550e6",
   "metadata": {},
   "outputs": [
    {
     "name": "stdout",
     "output_type": "stream",
     "text": [
      "[<div class=\"oraganization\">\n",
      "<ul id=\"HR\">\n",
      "<li class=\"HRmanager\">\n",
      "<div class=\"name\">Jack</div>\n",
      "<div class=\"ID\">101</div>\n",
      "</li>\n",
      "<li class=\"HRmanager\">\n",
      "<div class=\"name\">Daren</div>\n",
      "<div class=\"ID\">65</div>\n",
      "</li>\n",
      "</ul>\n",
      "<ul id=\"IT\">\n",
      "<li class=\"ITmanager\">\n",
      "<div class=\"name\">Morris</div>\n",
      "<div class=\"ID\">39</div>\n",
      "</li>\n",
      "<li class=\"ITmanager\">\n",
      "<div class=\"name\">Jane</div>\n",
      "<div class=\"ID\">11</div>\n",
      "</li>\n",
      "</ul>\n",
      "<ul id=\"Finance\">\n",
      "<li class=\"accountmanager\">\n",
      "<div class=\"name\">Tom</div>\n",
      "<div class=\"ID\">22</div>\n",
      "</li>\n",
      "<li class=\"accountmanager\">\n",
      "<div class=\"name\">Kelly</div>\n",
      "<div class=\"ID\">95</div>\n",
      "</li>\n",
      "</ul>\n",
      "</div>, <body>\n",
      "<div class=\"oraganization\">\n",
      "<ul id=\"HR\">\n",
      "<li class=\"HRmanager\">\n",
      "<div class=\"name\">Jack</div>\n",
      "<div class=\"ID\">101</div>\n",
      "</li>\n",
      "<li class=\"HRmanager\">\n",
      "<div class=\"name\">Daren</div>\n",
      "<div class=\"ID\">65</div>\n",
      "</li>\n",
      "</ul>\n",
      "<ul id=\"IT\">\n",
      "<li class=\"ITmanager\">\n",
      "<div class=\"name\">Morris</div>\n",
      "<div class=\"ID\">39</div>\n",
      "</li>\n",
      "<li class=\"ITmanager\">\n",
      "<div class=\"name\">Jane</div>\n",
      "<div class=\"ID\">11</div>\n",
      "</li>\n",
      "</ul>\n",
      "<ul id=\"Finance\">\n",
      "<li class=\"accountmanager\">\n",
      "<div class=\"name\">Tom</div>\n",
      "<div class=\"ID\">22</div>\n",
      "</li>\n",
      "<li class=\"accountmanager\">\n",
      "<div class=\"name\">Kelly</div>\n",
      "<div class=\"ID\">95</div>\n",
      "</li>\n",
      "</ul>\n",
      "</div>\n",
      "</body>, <html>\n",
      "<body>\n",
      "<div class=\"oraganization\">\n",
      "<ul id=\"HR\">\n",
      "<li class=\"HRmanager\">\n",
      "<div class=\"name\">Jack</div>\n",
      "<div class=\"ID\">101</div>\n",
      "</li>\n",
      "<li class=\"HRmanager\">\n",
      "<div class=\"name\">Daren</div>\n",
      "<div class=\"ID\">65</div>\n",
      "</li>\n",
      "</ul>\n",
      "<ul id=\"IT\">\n",
      "<li class=\"ITmanager\">\n",
      "<div class=\"name\">Morris</div>\n",
      "<div class=\"ID\">39</div>\n",
      "</li>\n",
      "<li class=\"ITmanager\">\n",
      "<div class=\"name\">Jane</div>\n",
      "<div class=\"ID\">11</div>\n",
      "</li>\n",
      "</ul>\n",
      "<ul id=\"Finance\">\n",
      "<li class=\"accountmanager\">\n",
      "<div class=\"name\">Tom</div>\n",
      "<div class=\"ID\">22</div>\n",
      "</li>\n",
      "<li class=\"accountmanager\">\n",
      "<div class=\"name\">Kelly</div>\n",
      "<div class=\"ID\">95</div>\n",
      "</li>\n",
      "</ul>\n",
      "</div>\n",
      "</body>\n",
      "</html>, <html>\n",
      "<body>\n",
      "<div class=\"oraganization\">\n",
      "<ul id=\"HR\">\n",
      "<li class=\"HRmanager\">\n",
      "<div class=\"name\">Jack</div>\n",
      "<div class=\"ID\">101</div>\n",
      "</li>\n",
      "<li class=\"HRmanager\">\n",
      "<div class=\"name\">Daren</div>\n",
      "<div class=\"ID\">65</div>\n",
      "</li>\n",
      "</ul>\n",
      "<ul id=\"IT\">\n",
      "<li class=\"ITmanager\">\n",
      "<div class=\"name\">Morris</div>\n",
      "<div class=\"ID\">39</div>\n",
      "</li>\n",
      "<li class=\"ITmanager\">\n",
      "<div class=\"name\">Jane</div>\n",
      "<div class=\"ID\">11</div>\n",
      "</li>\n",
      "</ul>\n",
      "<ul id=\"Finance\">\n",
      "<li class=\"accountmanager\">\n",
      "<div class=\"name\">Tom</div>\n",
      "<div class=\"ID\">22</div>\n",
      "</li>\n",
      "<li class=\"accountmanager\">\n",
      "<div class=\"name\">Kelly</div>\n",
      "<div class=\"ID\">95</div>\n",
      "</li>\n",
      "</ul>\n",
      "</div>\n",
      "</body>\n",
      "</html>]\n"
     ]
    }
   ],
   "source": [
    "parent = org.find_parents()\n",
    "print(parent)"
   ]
  },
  {
   "cell_type": "code",
   "execution_count": 38,
   "id": "b148f811",
   "metadata": {},
   "outputs": [
    {
     "name": "stdout",
     "output_type": "stream",
     "text": [
      "<ul id=\"HR\">\n",
      "<li class=\"HRmanager\">\n",
      "<div class=\"name\">Jack</div>\n",
      "<div class=\"ID\">101</div>\n",
      "</li>\n",
      "<li class=\"HRmanager\">\n",
      "<div class=\"name\">Daren</div>\n",
      "<div class=\"ID\">65</div>\n",
      "</li>\n",
      "</ul>\n"
     ]
    }
   ],
   "source": [
    "previous_sibling = org.find_previous_sibling()\n",
    "print(previous_sibling)"
   ]
  },
  {
   "cell_type": "code",
   "execution_count": 40,
   "id": "419b01bc",
   "metadata": {},
   "outputs": [
    {
     "name": "stdout",
     "output_type": "stream",
     "text": [
      "[<li class=\"ITmanager\">\n",
      "<div class=\"name\">Morris</div>\n",
      "<div class=\"ID\">39</div>\n",
      "</li>, <div class=\"name\">Morris</div>, <div class=\"ID\">39</div>, <li class=\"ITmanager\">\n",
      "<div class=\"name\">Jane</div>\n",
      "<div class=\"ID\">11</div>\n",
      "</li>, <div class=\"name\">Jane</div>, <div class=\"ID\">11</div>, <ul id=\"Finance\">\n",
      "<li class=\"accountmanager\">\n",
      "<div class=\"name\">Tom</div>\n",
      "<div class=\"ID\">22</div>\n",
      "</li>\n",
      "<li class=\"accountmanager\">\n",
      "<div class=\"name\">Kelly</div>\n",
      "<div class=\"ID\">95</div>\n",
      "</li>\n",
      "</ul>, <li class=\"accountmanager\">\n",
      "<div class=\"name\">Tom</div>\n",
      "<div class=\"ID\">22</div>\n",
      "</li>, <div class=\"name\">Tom</div>, <div class=\"ID\">22</div>, <li class=\"accountmanager\">\n",
      "<div class=\"name\">Kelly</div>\n",
      "<div class=\"ID\">95</div>\n",
      "</li>, <div class=\"name\">Kelly</div>, <div class=\"ID\">95</div>]\n"
     ]
    }
   ],
   "source": [
    "all_next = org.find_all_next()\n",
    "print(all_next) #everything that comes after"
   ]
  },
  {
   "cell_type": "code",
   "execution_count": 42,
   "id": "e3a590ff",
   "metadata": {},
   "outputs": [
    {
     "name": "stdout",
     "output_type": "stream",
     "text": [
      "\n",
      "abc@example.com <class 'bs4.element.NavigableString'>\n"
     ]
    }
   ],
   "source": [
    "#use regex\n",
    "import re\n",
    "\n",
    "email_example = \"\"\"<br/>\n",
    "<p>my email id is </p>\n",
    "abc@example.com\"\"\"\n",
    "soup_email = BeautifulSoup(email_example, 'lxml')\n",
    "#some string + @ + some string + . + some string \n",
    "#ex. abc + @ + gmail + . + com\n",
    "emailID_regex = re.compile('\\w+@\\w+\\.\\w+')\n",
    "email_ID = soup_email.find(text=emailID_regex)\n",
    "print(email_ID, type(email_ID))"
   ]
  },
  {
   "cell_type": "code",
   "execution_count": null,
   "id": "6dfce387",
   "metadata": {},
   "outputs": [],
   "source": []
  }
 ],
 "metadata": {
  "kernelspec": {
   "display_name": "Python 3 (ipykernel)",
   "language": "python",
   "name": "python3"
  },
  "language_info": {
   "codemirror_mode": {
    "name": "ipython",
    "version": 3
   },
   "file_extension": ".py",
   "mimetype": "text/x-python",
   "name": "python",
   "nbconvert_exporter": "python",
   "pygments_lexer": "ipython3",
   "version": "3.9.7"
  }
 },
 "nbformat": 4,
 "nbformat_minor": 5
}

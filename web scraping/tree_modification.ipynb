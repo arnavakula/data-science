{
 "cells": [
  {
   "cell_type": "code",
   "execution_count": 1,
   "id": "e610e677",
   "metadata": {},
   "outputs": [],
   "source": [
    "from bs4 import BeautifulSoup"
   ]
  },
  {
   "cell_type": "code",
   "execution_count": 26,
   "id": "bddac494",
   "metadata": {},
   "outputs": [],
   "source": [
    "book_html_doc = \"\"\"<catalog>\n",
    "<head><title>The web book catalog </title></head>\n",
    "<p class=\"title\"><b>The Book Catalog</b></p>\n",
    "    <books>\n",
    "    <book id=\"bk001\">\n",
    "      <author>Hightower, Kim</author>\n",
    "      <title>The First Book</title>\n",
    "      <genre>Fiction</genre>\n",
    "      <price>44.95</price>\n",
    "      <pub_date>2000-10-01</pub_date>\n",
    "      <review>An amazing story of nothing.</review>\n",
    "   </book>\n",
    "\n",
    "   <book>\n",
    "      <author>Nagata, Suanne</author>\n",
    "      <title>Becoming Somebody</title>\n",
    "      <genre>Biography</genre>\n",
    "      <review>A masterpiece of the fine art of gossiping.</review>\n",
    "   </book>\n",
    "   \n",
    "      <book>\n",
    "      <author>Nagata, Suanne</author>\n",
    "      <title>Becoming Somebody</title>\n",
    "      <genre>Biography</genre>\n",
    "      <price>44.95</price>\n",
    "      <review>A masterpiece of the fine art of gossiping.</review>\n",
    "   </book></books></catalog>\"\"\""
   ]
  },
  {
   "cell_type": "code",
   "execution_count": 60,
   "id": "c2426263",
   "metadata": {},
   "outputs": [],
   "source": [
    "soup = BeautifulSoup(book_html_doc, 'html.parser')"
   ]
  },
  {
   "cell_type": "code",
   "execution_count": 28,
   "id": "2a67b562",
   "metadata": {},
   "outputs": [
    {
     "data": {
      "text/plain": [
       "<books>\n",
       "<book id=\"bk001\">\n",
       "<author>Hightower, Kim</author>\n",
       "<title>The First Book</title>\n",
       "<genre>Fiction</genre>\n",
       "<price>44.95</price>\n",
       "<pub_date>2000-10-01</pub_date>\n",
       "<review>An amazing story of nothing.</review>\n",
       "</book>\n",
       "<book>\n",
       "<author>Nagata, Suanne</author>\n",
       "<title>Becoming Somebody</title>\n",
       "<genre>Biography</genre>\n",
       "<review>A masterpiece of the fine art of gossiping.</review>\n",
       "</book>\n",
       "<book>\n",
       "<author>Nagata, Suanne</author>\n",
       "<title>Becoming Somebody</title>\n",
       "<genre>Biography</genre>\n",
       "<price>44.95</price>\n",
       "<review>A masterpiece of the fine art of gossiping.</review>\n",
       "</book></books>"
      ]
     },
     "execution_count": 28,
     "metadata": {},
     "output_type": "execute_result"
    }
   ],
   "source": [
    "tag = soup.books\n",
    "tag"
   ]
  },
  {
   "cell_type": "code",
   "execution_count": 29,
   "id": "fc365a4a",
   "metadata": {},
   "outputs": [
    {
     "data": {
      "text/plain": [
       "<books class=\"in-stock\">\n",
       "<book id=\"bk001\">\n",
       "<author>Hightower, Kim</author>\n",
       "<title>The First Book</title>\n",
       "<genre>Fiction</genre>\n",
       "<price>44.95</price>\n",
       "<pub_date>2000-10-01</pub_date>\n",
       "<review>An amazing story of nothing.</review>\n",
       "</book>\n",
       "<book>\n",
       "<author>Nagata, Suanne</author>\n",
       "<title>Becoming Somebody</title>\n",
       "<genre>Biography</genre>\n",
       "<review>A masterpiece of the fine art of gossiping.</review>\n",
       "</book>\n",
       "<book>\n",
       "<author>Nagata, Suanne</author>\n",
       "<title>Becoming Somebody</title>\n",
       "<genre>Biography</genre>\n",
       "<price>44.95</price>\n",
       "<review>A masterpiece of the fine art of gossiping.</review>\n",
       "</book></books>"
      ]
     },
     "execution_count": 29,
     "metadata": {},
     "output_type": "execute_result"
    }
   ],
   "source": [
    "#modify tag\n",
    "tag['class']  = 'in-stock'\n",
    "tag"
   ]
  },
  {
   "cell_type": "code",
   "execution_count": 30,
   "id": "416ee3a0",
   "metadata": {},
   "outputs": [
    {
     "data": {
      "text/plain": [
       "[<catalog>\n",
       " <head><title>The web book catalog </title></head>\n",
       " <p class=\"title\"><b>The Book Catalog</b></p>\n",
       " <books class=\"in-stock\">\n",
       " <book id=\"bk001\">\n",
       " <author>Hightower, Kim</author>\n",
       " <title>The First Book</title>\n",
       " <genre>Fiction</genre>\n",
       " <price>44.95</price>\n",
       " <pub_date>2000-10-01</pub_date>\n",
       " <review>An amazing story of nothing.</review>\n",
       " </book>\n",
       " <book>\n",
       " <author>Nagata, Suanne</author>\n",
       " <title>Becoming Somebody</title>\n",
       " <genre>Biography</genre>\n",
       " <review>A masterpiece of the fine art of gossiping.</review>\n",
       " </book>\n",
       " <book>\n",
       " <author>Nagata, Suanne</author>\n",
       " <title>Becoming Somebody</title>\n",
       " <genre>Biography</genre>\n",
       " <price>44.95</price>\n",
       " <review>A masterpiece of the fine art of gossiping.</review>\n",
       " </book></books><ebooks>Ebook 1</ebooks></catalog>]"
      ]
     },
     "execution_count": 30,
     "metadata": {},
     "output_type": "execute_result"
    }
   ],
   "source": [
    "#add new tag\n",
    "new_tag = soup.new_tag('ebooks')\n",
    "new_tag.string = 'Ebook 1'\n",
    "soup.books.insert_after(new_tag)\n",
    "soup.contents"
   ]
  },
  {
   "cell_type": "code",
   "execution_count": 31,
   "id": "9fd01c17",
   "metadata": {},
   "outputs": [
    {
     "data": {
      "text/plain": [
       "[<catalog>\n",
       " <head><title>The web book catalog </title></head>\n",
       " <p class=\"title\"><b>The Book Catalog</b></p>\n",
       " <books class=\"in-stock\">\n",
       " <book id=\"bk001\">\n",
       " <author>Hightower, Kim</author>\n",
       " <title>The First Book</title>\n",
       " <genre>Fiction</genre>\n",
       " <price>44.95</price>\n",
       " <pub_date>2000-10-01</pub_date>\n",
       " <review>An amazing story of nothing.</review>\n",
       " </book>\n",
       " <book>\n",
       " <author>Nagata, Suanne</author>\n",
       " <title>Becoming Somebody</title>\n",
       " <genre>Biography</genre>\n",
       " <review>A masterpiece of the fine art of gossiping.</review>\n",
       " </book>\n",
       " <book>\n",
       " <author>Nagata, Suanne</author>\n",
       " <title>Becoming Somebody</title>\n",
       " <genre>Biography</genre>\n",
       " <price>44.95</price>\n",
       " <review>A masterpiece of the fine art of gossiping.</review>\n",
       " </book></books><ebooks></ebooks></catalog>]"
      ]
     },
     "execution_count": 31,
     "metadata": {},
     "output_type": "execute_result"
    }
   ],
   "source": [
    "#clear in case of error\n",
    "new_tag.clear()\n",
    "soup.contents"
   ]
  },
  {
   "cell_type": "code",
   "execution_count": 61,
   "id": "93ea22c8",
   "metadata": {},
   "outputs": [
    {
     "data": {
      "text/plain": [
       "'The First Book'"
      ]
     },
     "execution_count": 61,
     "metadata": {},
     "output_type": "execute_result"
    }
   ],
   "source": [
    "first_book_tag = soup.books.book\n",
    "first_book_tag.title.string.extract()"
   ]
  },
  {
   "cell_type": "code",
   "execution_count": 62,
   "id": "d67f6f02",
   "metadata": {},
   "outputs": [
    {
     "data": {
      "text/plain": [
       "<title></title>"
      ]
     },
     "execution_count": 62,
     "metadata": {},
     "output_type": "execute_result"
    }
   ],
   "source": [
    "first_book_tag.title.replace_with('The Very First Book')"
   ]
  },
  {
   "cell_type": "code",
   "execution_count": 63,
   "id": "5074b1a7",
   "metadata": {},
   "outputs": [
    {
     "data": {
      "text/plain": [
       "[<catalog>\n",
       " <head><title>The web book catalog </title></head>\n",
       " <p class=\"title\"><b>The Book Catalog</b></p>\n",
       " <books>\n",
       " <book id=\"bk001\">\n",
       " <author>Hightower, Kim</author>\n",
       " The Very First Book\n",
       " <genre>Fiction</genre>\n",
       " <price>44.95</price>\n",
       " <pub_date>2000-10-01</pub_date>\n",
       " <review>An amazing story of nothing.</review>\n",
       " </book>\n",
       " <book>\n",
       " <author>Nagata, Suanne</author>\n",
       " <title>Becoming Somebody</title>\n",
       " <genre>Biography</genre>\n",
       " <review>A masterpiece of the fine art of gossiping.</review>\n",
       " </book>\n",
       " <book>\n",
       " <author>Nagata, Suanne</author>\n",
       " <title>Becoming Somebody</title>\n",
       " <genre>Biography</genre>\n",
       " <price>44.95</price>\n",
       " <review>A masterpiece of the fine art of gossiping.</review>\n",
       " </book></books></catalog>]"
      ]
     },
     "execution_count": 63,
     "metadata": {},
     "output_type": "execute_result"
    }
   ],
   "source": [
    "soup.contents"
   ]
  }
 ],
 "metadata": {
  "kernelspec": {
   "display_name": "Python 3 (ipykernel)",
   "language": "python",
   "name": "python3"
  },
  "language_info": {
   "codemirror_mode": {
    "name": "ipython",
    "version": 3
   },
   "file_extension": ".py",
   "mimetype": "text/x-python",
   "name": "python",
   "nbconvert_exporter": "python",
   "pygments_lexer": "ipython3",
   "version": "3.9.7"
  }
 },
 "nbformat": 4,
 "nbformat_minor": 5
}

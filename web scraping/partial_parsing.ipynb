{
 "cells": [
  {
   "cell_type": "code",
   "execution_count": 1,
   "id": "d60eb67c",
   "metadata": {},
   "outputs": [],
   "source": [
    "from bs4 import BeautifulSoup"
   ]
  },
  {
   "cell_type": "code",
   "execution_count": 2,
   "id": "32f96d91",
   "metadata": {},
   "outputs": [],
   "source": [
    "with open('web_scraping_example.html', 'r') as f:\n",
    "    soup = BeautifulSoup(f, 'html.parser')"
   ]
  },
  {
   "cell_type": "code",
   "execution_count": 3,
   "id": "1873d4aa",
   "metadata": {},
   "outputs": [
    {
     "data": {
      "text/plain": [
       "'\\n\\n\\n\\n\\nJack\\n101\\n\\n\\nDaren\\n65\\n\\n\\n\\n\\nMorris\\n39\\n\\n\\nJane\\n11\\n\\n\\n\\n\\nTom\\n22\\n\\n\\nKelly\\n95\\n\\n\\n\\n\\n'"
      ]
     },
     "execution_count": 3,
     "metadata": {},
     "output_type": "execute_result"
    }
   ],
   "source": [
    "soup.get_text()"
   ]
  },
  {
   "cell_type": "code",
   "execution_count": 4,
   "id": "7fc873d9",
   "metadata": {},
   "outputs": [],
   "source": [
    "from bs4 import SoupStrainer"
   ]
  },
  {
   "cell_type": "code",
   "execution_count": 5,
   "id": "1c504e72",
   "metadata": {},
   "outputs": [],
   "source": [
    "#parse only tags with class='ID'\n",
    "id_tags = SoupStrainer(class_='ID')"
   ]
  },
  {
   "cell_type": "code",
   "execution_count": 7,
   "id": "f03f3da3",
   "metadata": {},
   "outputs": [
    {
     "name": "stdout",
     "output_type": "stream",
     "text": [
      "<div class=\"ID\">\n",
      " 101\n",
      "</div>\n",
      "<div class=\"ID\">\n",
      " 65\n",
      "</div>\n",
      "<div class=\"ID\">\n",
      " 39\n",
      "</div>\n",
      "<div class=\"ID\">\n",
      " 11\n",
      "</div>\n",
      "<div class=\"ID\">\n",
      " 22\n",
      "</div>\n",
      "<div class=\"ID\">\n",
      " 95\n",
      "</div>\n"
     ]
    }
   ],
   "source": [
    "with open('web_scraping_example.html', 'r') as f:\n",
    "    print(BeautifulSoup(f, 'html.parser', parse_only=id_tags).prettify())\n",
    "\n",
    "#how is this different from getting all relevant tags?\n",
    "    #CPU usage?"
   ]
  }
 ],
 "metadata": {
  "kernelspec": {
   "display_name": "Python 3 (ipykernel)",
   "language": "python",
   "name": "python3"
  },
  "language_info": {
   "codemirror_mode": {
    "name": "ipython",
    "version": 3
   },
   "file_extension": ".py",
   "mimetype": "text/x-python",
   "name": "python",
   "nbconvert_exporter": "python",
   "pygments_lexer": "ipython3",
   "version": "3.9.7"
  }
 },
 "nbformat": 4,
 "nbformat_minor": 5
}

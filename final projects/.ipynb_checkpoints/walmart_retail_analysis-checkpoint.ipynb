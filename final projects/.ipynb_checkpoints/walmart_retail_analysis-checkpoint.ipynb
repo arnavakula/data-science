{
 "cells": [
  {
   "cell_type": "code",
   "execution_count": 1,
   "id": "288c08a3",
   "metadata": {},
   "outputs": [],
   "source": [
    "import pandas as pd\n",
    "import numpy as np"
   ]
  },
  {
   "cell_type": "code",
   "execution_count": 66,
   "id": "71e95999",
   "metadata": {},
   "outputs": [],
   "source": [
    "dataset = pd.read_csv('Walmart_Store_sales.csv')"
   ]
  },
  {
   "cell_type": "code",
   "execution_count": 3,
   "id": "ad3bc678",
   "metadata": {},
   "outputs": [
    {
     "data": {
      "text/html": [
       "<div>\n",
       "<style scoped>\n",
       "    .dataframe tbody tr th:only-of-type {\n",
       "        vertical-align: middle;\n",
       "    }\n",
       "\n",
       "    .dataframe tbody tr th {\n",
       "        vertical-align: top;\n",
       "    }\n",
       "\n",
       "    .dataframe thead th {\n",
       "        text-align: right;\n",
       "    }\n",
       "</style>\n",
       "<table border=\"1\" class=\"dataframe\">\n",
       "  <thead>\n",
       "    <tr style=\"text-align: right;\">\n",
       "      <th></th>\n",
       "      <th>Store</th>\n",
       "      <th>Date</th>\n",
       "      <th>Weekly_Sales</th>\n",
       "      <th>Holiday_Flag</th>\n",
       "      <th>Temperature</th>\n",
       "      <th>Fuel_Price</th>\n",
       "      <th>CPI</th>\n",
       "      <th>Unemployment</th>\n",
       "    </tr>\n",
       "  </thead>\n",
       "  <tbody>\n",
       "    <tr>\n",
       "      <th>0</th>\n",
       "      <td>1</td>\n",
       "      <td>05-02-2010</td>\n",
       "      <td>1643690.90</td>\n",
       "      <td>0</td>\n",
       "      <td>42.31</td>\n",
       "      <td>2.572</td>\n",
       "      <td>211.096358</td>\n",
       "      <td>8.106</td>\n",
       "    </tr>\n",
       "    <tr>\n",
       "      <th>1</th>\n",
       "      <td>1</td>\n",
       "      <td>12-02-2010</td>\n",
       "      <td>1641957.44</td>\n",
       "      <td>1</td>\n",
       "      <td>38.51</td>\n",
       "      <td>2.548</td>\n",
       "      <td>211.242170</td>\n",
       "      <td>8.106</td>\n",
       "    </tr>\n",
       "    <tr>\n",
       "      <th>2</th>\n",
       "      <td>1</td>\n",
       "      <td>19-02-2010</td>\n",
       "      <td>1611968.17</td>\n",
       "      <td>0</td>\n",
       "      <td>39.93</td>\n",
       "      <td>2.514</td>\n",
       "      <td>211.289143</td>\n",
       "      <td>8.106</td>\n",
       "    </tr>\n",
       "    <tr>\n",
       "      <th>3</th>\n",
       "      <td>1</td>\n",
       "      <td>26-02-2010</td>\n",
       "      <td>1409727.59</td>\n",
       "      <td>0</td>\n",
       "      <td>46.63</td>\n",
       "      <td>2.561</td>\n",
       "      <td>211.319643</td>\n",
       "      <td>8.106</td>\n",
       "    </tr>\n",
       "    <tr>\n",
       "      <th>4</th>\n",
       "      <td>1</td>\n",
       "      <td>05-03-2010</td>\n",
       "      <td>1554806.68</td>\n",
       "      <td>0</td>\n",
       "      <td>46.50</td>\n",
       "      <td>2.625</td>\n",
       "      <td>211.350143</td>\n",
       "      <td>8.106</td>\n",
       "    </tr>\n",
       "    <tr>\n",
       "      <th>5</th>\n",
       "      <td>1</td>\n",
       "      <td>12-03-2010</td>\n",
       "      <td>1439541.59</td>\n",
       "      <td>0</td>\n",
       "      <td>57.79</td>\n",
       "      <td>2.667</td>\n",
       "      <td>211.380643</td>\n",
       "      <td>8.106</td>\n",
       "    </tr>\n",
       "    <tr>\n",
       "      <th>6</th>\n",
       "      <td>1</td>\n",
       "      <td>19-03-2010</td>\n",
       "      <td>1472515.79</td>\n",
       "      <td>0</td>\n",
       "      <td>54.58</td>\n",
       "      <td>2.720</td>\n",
       "      <td>211.215635</td>\n",
       "      <td>8.106</td>\n",
       "    </tr>\n",
       "    <tr>\n",
       "      <th>7</th>\n",
       "      <td>1</td>\n",
       "      <td>26-03-2010</td>\n",
       "      <td>1404429.92</td>\n",
       "      <td>0</td>\n",
       "      <td>51.45</td>\n",
       "      <td>2.732</td>\n",
       "      <td>211.018042</td>\n",
       "      <td>8.106</td>\n",
       "    </tr>\n",
       "    <tr>\n",
       "      <th>8</th>\n",
       "      <td>1</td>\n",
       "      <td>02-04-2010</td>\n",
       "      <td>1594968.28</td>\n",
       "      <td>0</td>\n",
       "      <td>62.27</td>\n",
       "      <td>2.719</td>\n",
       "      <td>210.820450</td>\n",
       "      <td>7.808</td>\n",
       "    </tr>\n",
       "    <tr>\n",
       "      <th>9</th>\n",
       "      <td>1</td>\n",
       "      <td>09-04-2010</td>\n",
       "      <td>1545418.53</td>\n",
       "      <td>0</td>\n",
       "      <td>65.86</td>\n",
       "      <td>2.770</td>\n",
       "      <td>210.622857</td>\n",
       "      <td>7.808</td>\n",
       "    </tr>\n",
       "  </tbody>\n",
       "</table>\n",
       "</div>"
      ],
      "text/plain": [
       "   Store        Date  Weekly_Sales  Holiday_Flag  Temperature  Fuel_Price  \\\n",
       "0      1  05-02-2010    1643690.90             0        42.31       2.572   \n",
       "1      1  12-02-2010    1641957.44             1        38.51       2.548   \n",
       "2      1  19-02-2010    1611968.17             0        39.93       2.514   \n",
       "3      1  26-02-2010    1409727.59             0        46.63       2.561   \n",
       "4      1  05-03-2010    1554806.68             0        46.50       2.625   \n",
       "5      1  12-03-2010    1439541.59             0        57.79       2.667   \n",
       "6      1  19-03-2010    1472515.79             0        54.58       2.720   \n",
       "7      1  26-03-2010    1404429.92             0        51.45       2.732   \n",
       "8      1  02-04-2010    1594968.28             0        62.27       2.719   \n",
       "9      1  09-04-2010    1545418.53             0        65.86       2.770   \n",
       "\n",
       "          CPI  Unemployment  \n",
       "0  211.096358         8.106  \n",
       "1  211.242170         8.106  \n",
       "2  211.289143         8.106  \n",
       "3  211.319643         8.106  \n",
       "4  211.350143         8.106  \n",
       "5  211.380643         8.106  \n",
       "6  211.215635         8.106  \n",
       "7  211.018042         8.106  \n",
       "8  210.820450         7.808  \n",
       "9  210.622857         7.808  "
      ]
     },
     "execution_count": 3,
     "metadata": {},
     "output_type": "execute_result"
    }
   ],
   "source": [
    "dataset.head(10)"
   ]
  },
  {
   "cell_type": "code",
   "execution_count": 4,
   "id": "98c03302",
   "metadata": {},
   "outputs": [
    {
     "data": {
      "text/plain": [
       "Store             int64\n",
       "Date             object\n",
       "Weekly_Sales    float64\n",
       "Holiday_Flag      int64\n",
       "Temperature     float64\n",
       "Fuel_Price      float64\n",
       "CPI             float64\n",
       "Unemployment    float64\n",
       "dtype: object"
      ]
     },
     "execution_count": 4,
     "metadata": {},
     "output_type": "execute_result"
    }
   ],
   "source": [
    "dataset.dtypes"
   ]
  },
  {
   "cell_type": "code",
   "execution_count": 5,
   "id": "4f4fb6cc",
   "metadata": {},
   "outputs": [
    {
     "data": {
      "text/plain": [
       "1     143\n",
       "24    143\n",
       "26    143\n",
       "27    143\n",
       "28    143\n",
       "29    143\n",
       "30    143\n",
       "31    143\n",
       "32    143\n",
       "33    143\n",
       "34    143\n",
       "35    143\n",
       "36    143\n",
       "37    143\n",
       "38    143\n",
       "39    143\n",
       "40    143\n",
       "41    143\n",
       "42    143\n",
       "43    143\n",
       "44    143\n",
       "25    143\n",
       "23    143\n",
       "2     143\n",
       "22    143\n",
       "3     143\n",
       "4     143\n",
       "5     143\n",
       "6     143\n",
       "7     143\n",
       "8     143\n",
       "9     143\n",
       "10    143\n",
       "11    143\n",
       "12    143\n",
       "13    143\n",
       "14    143\n",
       "15    143\n",
       "16    143\n",
       "17    143\n",
       "18    143\n",
       "19    143\n",
       "20    143\n",
       "21    143\n",
       "45    143\n",
       "Name: Store, dtype: int64"
      ]
     },
     "execution_count": 5,
     "metadata": {},
     "output_type": "execute_result"
    }
   ],
   "source": [
    "dataset.Store.value_counts()"
   ]
  },
  {
   "cell_type": "code",
   "execution_count": 6,
   "id": "c6d7e687",
   "metadata": {},
   "outputs": [
    {
     "name": "stdout",
     "output_type": "stream",
     "text": [
      "Store number 1905 has a max weekly sales of $3818686.45\n"
     ]
    }
   ],
   "source": [
    "#1. find store with maximum sales\n",
    "print('Store number %i has a max weekly sales of $%.2f' %(dataset.Weekly_Sales.idxmax(), dataset.Weekly_Sales.max()))"
   ]
  },
  {
   "cell_type": "code",
   "execution_count": 7,
   "id": "049d0123",
   "metadata": {},
   "outputs": [
    {
     "name": "stdout",
     "output_type": "stream",
     "text": [
      "Store number 14 has the most deviation in its sales of 317569.95\n"
     ]
    }
   ],
   "source": [
    "max_std_store = dataset.groupby('Store').describe()[('Weekly_Sales', 'std')].idxmax()\n",
    "max_std = dataset.groupby('Store').describe()[('Weekly_Sales', 'std')].max()\n",
    "print('Store number %i has the most deviation in its sales of %.2f' %(max_std_store, max_std))"
   ]
  },
  {
   "cell_type": "code",
   "execution_count": 8,
   "id": "6e574e69",
   "metadata": {},
   "outputs": [
    {
     "name": "stdout",
     "output_type": "stream",
     "text": [
      "The coefficient of variation is 6.3639\n"
     ]
    }
   ],
   "source": [
    "print('The coefficient of variation is %.4f' %(dataset.groupby('Store').describe()[('Weekly_Sales', 'mean')][14]\n",
    "                                             /dataset.groupby('Store').describe()[('Weekly_Sales', 'std')][14]))"
   ]
  },
  {
   "cell_type": "code",
   "execution_count": 9,
   "id": "3c42684e",
   "metadata": {},
   "outputs": [
    {
     "data": {
      "text/html": [
       "<div>\n",
       "<style scoped>\n",
       "    .dataframe tbody tr th:only-of-type {\n",
       "        vertical-align: middle;\n",
       "    }\n",
       "\n",
       "    .dataframe tbody tr th {\n",
       "        vertical-align: top;\n",
       "    }\n",
       "\n",
       "    .dataframe thead tr th {\n",
       "        text-align: left;\n",
       "    }\n",
       "\n",
       "    .dataframe thead tr:last-of-type th {\n",
       "        text-align: right;\n",
       "    }\n",
       "</style>\n",
       "<table border=\"1\" class=\"dataframe\">\n",
       "  <thead>\n",
       "    <tr>\n",
       "      <th></th>\n",
       "      <th colspan=\"8\" halign=\"left\">Store</th>\n",
       "      <th colspan=\"2\" halign=\"left\">Weekly_Sales</th>\n",
       "      <th>...</th>\n",
       "      <th colspan=\"2\" halign=\"left\">CPI</th>\n",
       "      <th colspan=\"8\" halign=\"left\">Unemployment</th>\n",
       "    </tr>\n",
       "    <tr>\n",
       "      <th></th>\n",
       "      <th>count</th>\n",
       "      <th>mean</th>\n",
       "      <th>std</th>\n",
       "      <th>min</th>\n",
       "      <th>25%</th>\n",
       "      <th>50%</th>\n",
       "      <th>75%</th>\n",
       "      <th>max</th>\n",
       "      <th>count</th>\n",
       "      <th>mean</th>\n",
       "      <th>...</th>\n",
       "      <th>75%</th>\n",
       "      <th>max</th>\n",
       "      <th>count</th>\n",
       "      <th>mean</th>\n",
       "      <th>std</th>\n",
       "      <th>min</th>\n",
       "      <th>25%</th>\n",
       "      <th>50%</th>\n",
       "      <th>75%</th>\n",
       "      <th>max</th>\n",
       "    </tr>\n",
       "    <tr>\n",
       "      <th>Date</th>\n",
       "      <th></th>\n",
       "      <th></th>\n",
       "      <th></th>\n",
       "      <th></th>\n",
       "      <th></th>\n",
       "      <th></th>\n",
       "      <th></th>\n",
       "      <th></th>\n",
       "      <th></th>\n",
       "      <th></th>\n",
       "      <th></th>\n",
       "      <th></th>\n",
       "      <th></th>\n",
       "      <th></th>\n",
       "      <th></th>\n",
       "      <th></th>\n",
       "      <th></th>\n",
       "      <th></th>\n",
       "      <th></th>\n",
       "      <th></th>\n",
       "      <th></th>\n",
       "    </tr>\n",
       "  </thead>\n",
       "  <tbody>\n",
       "    <tr>\n",
       "      <th>01-04-2011</th>\n",
       "      <td>45.0</td>\n",
       "      <td>23.0</td>\n",
       "      <td>13.133926</td>\n",
       "      <td>1.0</td>\n",
       "      <td>12.0</td>\n",
       "      <td>23.0</td>\n",
       "      <td>34.0</td>\n",
       "      <td>45.0</td>\n",
       "      <td>45.0</td>\n",
       "      <td>9.657554e+05</td>\n",
       "      <td>...</td>\n",
       "      <td>213.577670</td>\n",
       "      <td>218.445164</td>\n",
       "      <td>45.0</td>\n",
       "      <td>8.150133</td>\n",
       "      <td>1.917810</td>\n",
       "      <td>4.781</td>\n",
       "      <td>7.193</td>\n",
       "      <td>7.931</td>\n",
       "      <td>8.521</td>\n",
       "      <td>13.736</td>\n",
       "    </tr>\n",
       "    <tr>\n",
       "      <th>01-06-2012</th>\n",
       "      <td>45.0</td>\n",
       "      <td>23.0</td>\n",
       "      <td>13.133926</td>\n",
       "      <td>1.0</td>\n",
       "      <td>12.0</td>\n",
       "      <td>23.0</td>\n",
       "      <td>34.0</td>\n",
       "      <td>45.0</td>\n",
       "      <td>45.0</td>\n",
       "      <td>1.072926e+06</td>\n",
       "      <td>...</td>\n",
       "      <td>220.432210</td>\n",
       "      <td>225.494608</td>\n",
       "      <td>45.0</td>\n",
       "      <td>7.419533</td>\n",
       "      <td>1.724788</td>\n",
       "      <td>4.125</td>\n",
       "      <td>6.547</td>\n",
       "      <td>7.139</td>\n",
       "      <td>8.253</td>\n",
       "      <td>11.627</td>\n",
       "    </tr>\n",
       "    <tr>\n",
       "      <th>01-07-2011</th>\n",
       "      <td>45.0</td>\n",
       "      <td>23.0</td>\n",
       "      <td>13.133926</td>\n",
       "      <td>1.0</td>\n",
       "      <td>12.0</td>\n",
       "      <td>23.0</td>\n",
       "      <td>34.0</td>\n",
       "      <td>45.0</td>\n",
       "      <td>45.0</td>\n",
       "      <td>1.057300e+06</td>\n",
       "      <td>...</td>\n",
       "      <td>213.932412</td>\n",
       "      <td>218.779641</td>\n",
       "      <td>45.0</td>\n",
       "      <td>8.097489</td>\n",
       "      <td>1.900916</td>\n",
       "      <td>4.584</td>\n",
       "      <td>6.925</td>\n",
       "      <td>7.852</td>\n",
       "      <td>8.622</td>\n",
       "      <td>13.503</td>\n",
       "    </tr>\n",
       "    <tr>\n",
       "      <th>01-10-2010</th>\n",
       "      <td>45.0</td>\n",
       "      <td>23.0</td>\n",
       "      <td>13.133926</td>\n",
       "      <td>1.0</td>\n",
       "      <td>12.0</td>\n",
       "      <td>23.0</td>\n",
       "      <td>34.0</td>\n",
       "      <td>45.0</td>\n",
       "      <td>45.0</td>\n",
       "      <td>9.386639e+05</td>\n",
       "      <td>...</td>\n",
       "      <td>210.440443</td>\n",
       "      <td>215.214134</td>\n",
       "      <td>45.0</td>\n",
       "      <td>8.475289</td>\n",
       "      <td>1.921871</td>\n",
       "      <td>5.287</td>\n",
       "      <td>7.508</td>\n",
       "      <td>8.163</td>\n",
       "      <td>9.003</td>\n",
       "      <td>14.313</td>\n",
       "    </tr>\n",
       "    <tr>\n",
       "      <th>02-03-2012</th>\n",
       "      <td>45.0</td>\n",
       "      <td>23.0</td>\n",
       "      <td>13.133926</td>\n",
       "      <td>1.0</td>\n",
       "      <td>12.0</td>\n",
       "      <td>23.0</td>\n",
       "      <td>34.0</td>\n",
       "      <td>45.0</td>\n",
       "      <td>45.0</td>\n",
       "      <td>1.041356e+06</td>\n",
       "      <td>...</td>\n",
       "      <td>219.534098</td>\n",
       "      <td>224.589410</td>\n",
       "      <td>45.0</td>\n",
       "      <td>7.508333</td>\n",
       "      <td>1.752693</td>\n",
       "      <td>4.261</td>\n",
       "      <td>6.589</td>\n",
       "      <td>7.244</td>\n",
       "      <td>8.256</td>\n",
       "      <td>12.187</td>\n",
       "    </tr>\n",
       "    <tr>\n",
       "      <th>...</th>\n",
       "      <td>...</td>\n",
       "      <td>...</td>\n",
       "      <td>...</td>\n",
       "      <td>...</td>\n",
       "      <td>...</td>\n",
       "      <td>...</td>\n",
       "      <td>...</td>\n",
       "      <td>...</td>\n",
       "      <td>...</td>\n",
       "      <td>...</td>\n",
       "      <td>...</td>\n",
       "      <td>...</td>\n",
       "      <td>...</td>\n",
       "      <td>...</td>\n",
       "      <td>...</td>\n",
       "      <td>...</td>\n",
       "      <td>...</td>\n",
       "      <td>...</td>\n",
       "      <td>...</td>\n",
       "      <td>...</td>\n",
       "      <td>...</td>\n",
       "    </tr>\n",
       "    <tr>\n",
       "      <th>30-07-2010</th>\n",
       "      <td>45.0</td>\n",
       "      <td>23.0</td>\n",
       "      <td>13.133926</td>\n",
       "      <td>1.0</td>\n",
       "      <td>12.0</td>\n",
       "      <td>23.0</td>\n",
       "      <td>34.0</td>\n",
       "      <td>45.0</td>\n",
       "      <td>45.0</td>\n",
       "      <td>9.917859e+05</td>\n",
       "      <td>...</td>\n",
       "      <td>210.128679</td>\n",
       "      <td>214.925711</td>\n",
       "      <td>45.0</td>\n",
       "      <td>8.428578</td>\n",
       "      <td>1.897796</td>\n",
       "      <td>5.326</td>\n",
       "      <td>7.372</td>\n",
       "      <td>8.099</td>\n",
       "      <td>9.017</td>\n",
       "      <td>14.180</td>\n",
       "    </tr>\n",
       "    <tr>\n",
       "      <th>30-09-2011</th>\n",
       "      <td>45.0</td>\n",
       "      <td>23.0</td>\n",
       "      <td>13.133926</td>\n",
       "      <td>1.0</td>\n",
       "      <td>12.0</td>\n",
       "      <td>23.0</td>\n",
       "      <td>34.0</td>\n",
       "      <td>45.0</td>\n",
       "      <td>45.0</td>\n",
       "      <td>9.376851e+05</td>\n",
       "      <td>...</td>\n",
       "      <td>215.453226</td>\n",
       "      <td>220.319500</td>\n",
       "      <td>45.0</td>\n",
       "      <td>8.097489</td>\n",
       "      <td>1.900916</td>\n",
       "      <td>4.584</td>\n",
       "      <td>6.925</td>\n",
       "      <td>7.852</td>\n",
       "      <td>8.622</td>\n",
       "      <td>13.503</td>\n",
       "    </tr>\n",
       "    <tr>\n",
       "      <th>30-12-2011</th>\n",
       "      <td>45.0</td>\n",
       "      <td>23.0</td>\n",
       "      <td>13.133926</td>\n",
       "      <td>1.0</td>\n",
       "      <td>12.0</td>\n",
       "      <td>23.0</td>\n",
       "      <td>34.0</td>\n",
       "      <td>45.0</td>\n",
       "      <td>45.0</td>\n",
       "      <td>1.023166e+06</td>\n",
       "      <td>...</td>\n",
       "      <td>218.230236</td>\n",
       "      <td>223.249677</td>\n",
       "      <td>45.0</td>\n",
       "      <td>7.804222</td>\n",
       "      <td>1.827193</td>\n",
       "      <td>4.420</td>\n",
       "      <td>6.759</td>\n",
       "      <td>7.716</td>\n",
       "      <td>8.471</td>\n",
       "      <td>12.890</td>\n",
       "    </tr>\n",
       "    <tr>\n",
       "      <th>31-08-2012</th>\n",
       "      <td>45.0</td>\n",
       "      <td>23.0</td>\n",
       "      <td>13.133926</td>\n",
       "      <td>1.0</td>\n",
       "      <td>12.0</td>\n",
       "      <td>23.0</td>\n",
       "      <td>34.0</td>\n",
       "      <td>45.0</td>\n",
       "      <td>45.0</td>\n",
       "      <td>1.047992e+06</td>\n",
       "      <td>...</td>\n",
       "      <td>220.985396</td>\n",
       "      <td>226.073413</td>\n",
       "      <td>45.0</td>\n",
       "      <td>7.237333</td>\n",
       "      <td>1.682420</td>\n",
       "      <td>4.077</td>\n",
       "      <td>6.334</td>\n",
       "      <td>7.147</td>\n",
       "      <td>8.239</td>\n",
       "      <td>10.926</td>\n",
       "    </tr>\n",
       "    <tr>\n",
       "      <th>31-12-2010</th>\n",
       "      <td>45.0</td>\n",
       "      <td>23.0</td>\n",
       "      <td>13.133926</td>\n",
       "      <td>1.0</td>\n",
       "      <td>12.0</td>\n",
       "      <td>23.0</td>\n",
       "      <td>34.0</td>\n",
       "      <td>45.0</td>\n",
       "      <td>45.0</td>\n",
       "      <td>8.985004e+05</td>\n",
       "      <td>...</td>\n",
       "      <td>210.182398</td>\n",
       "      <td>214.926813</td>\n",
       "      <td>45.0</td>\n",
       "      <td>8.475289</td>\n",
       "      <td>1.921871</td>\n",
       "      <td>5.287</td>\n",
       "      <td>7.508</td>\n",
       "      <td>8.163</td>\n",
       "      <td>9.003</td>\n",
       "      <td>14.313</td>\n",
       "    </tr>\n",
       "  </tbody>\n",
       "</table>\n",
       "<p>143 rows × 56 columns</p>\n",
       "</div>"
      ],
      "text/plain": [
       "           Store                                               Weekly_Sales  \\\n",
       "           count  mean        std  min   25%   50%   75%   max        count   \n",
       "Date                                                                          \n",
       "01-04-2011  45.0  23.0  13.133926  1.0  12.0  23.0  34.0  45.0         45.0   \n",
       "01-06-2012  45.0  23.0  13.133926  1.0  12.0  23.0  34.0  45.0         45.0   \n",
       "01-07-2011  45.0  23.0  13.133926  1.0  12.0  23.0  34.0  45.0         45.0   \n",
       "01-10-2010  45.0  23.0  13.133926  1.0  12.0  23.0  34.0  45.0         45.0   \n",
       "02-03-2012  45.0  23.0  13.133926  1.0  12.0  23.0  34.0  45.0         45.0   \n",
       "...          ...   ...        ...  ...   ...   ...   ...   ...          ...   \n",
       "30-07-2010  45.0  23.0  13.133926  1.0  12.0  23.0  34.0  45.0         45.0   \n",
       "30-09-2011  45.0  23.0  13.133926  1.0  12.0  23.0  34.0  45.0         45.0   \n",
       "30-12-2011  45.0  23.0  13.133926  1.0  12.0  23.0  34.0  45.0         45.0   \n",
       "31-08-2012  45.0  23.0  13.133926  1.0  12.0  23.0  34.0  45.0         45.0   \n",
       "31-12-2010  45.0  23.0  13.133926  1.0  12.0  23.0  34.0  45.0         45.0   \n",
       "\n",
       "                          ...         CPI             Unemployment            \\\n",
       "                    mean  ...         75%         max        count      mean   \n",
       "Date                      ...                                                  \n",
       "01-04-2011  9.657554e+05  ...  213.577670  218.445164         45.0  8.150133   \n",
       "01-06-2012  1.072926e+06  ...  220.432210  225.494608         45.0  7.419533   \n",
       "01-07-2011  1.057300e+06  ...  213.932412  218.779641         45.0  8.097489   \n",
       "01-10-2010  9.386639e+05  ...  210.440443  215.214134         45.0  8.475289   \n",
       "02-03-2012  1.041356e+06  ...  219.534098  224.589410         45.0  7.508333   \n",
       "...                  ...  ...         ...         ...          ...       ...   \n",
       "30-07-2010  9.917859e+05  ...  210.128679  214.925711         45.0  8.428578   \n",
       "30-09-2011  9.376851e+05  ...  215.453226  220.319500         45.0  8.097489   \n",
       "30-12-2011  1.023166e+06  ...  218.230236  223.249677         45.0  7.804222   \n",
       "31-08-2012  1.047992e+06  ...  220.985396  226.073413         45.0  7.237333   \n",
       "31-12-2010  8.985004e+05  ...  210.182398  214.926813         45.0  8.475289   \n",
       "\n",
       "                                                          \n",
       "                 std    min    25%    50%    75%     max  \n",
       "Date                                                      \n",
       "01-04-2011  1.917810  4.781  7.193  7.931  8.521  13.736  \n",
       "01-06-2012  1.724788  4.125  6.547  7.139  8.253  11.627  \n",
       "01-07-2011  1.900916  4.584  6.925  7.852  8.622  13.503  \n",
       "01-10-2010  1.921871  5.287  7.508  8.163  9.003  14.313  \n",
       "02-03-2012  1.752693  4.261  6.589  7.244  8.256  12.187  \n",
       "...              ...    ...    ...    ...    ...     ...  \n",
       "30-07-2010  1.897796  5.326  7.372  8.099  9.017  14.180  \n",
       "30-09-2011  1.900916  4.584  6.925  7.852  8.622  13.503  \n",
       "30-12-2011  1.827193  4.420  6.759  7.716  8.471  12.890  \n",
       "31-08-2012  1.682420  4.077  6.334  7.147  8.239  10.926  \n",
       "31-12-2010  1.921871  5.287  7.508  8.163  9.003  14.313  \n",
       "\n",
       "[143 rows x 56 columns]"
      ]
     },
     "execution_count": 9,
     "metadata": {},
     "output_type": "execute_result"
    }
   ],
   "source": [
    "dataset.groupby('Date').describe()"
   ]
  },
  {
   "cell_type": "code",
   "execution_count": 10,
   "id": "92f923bf",
   "metadata": {},
   "outputs": [
    {
     "name": "stdout",
     "output_type": "stream",
     "text": [
      "The following stores had a positive growth rate over the third quarter in 2012:\n"
     ]
    },
    {
     "data": {
      "text/plain": [
       "Int64Index([7, 13, 16, 17, 21, 25, 26, 32, 44], dtype='int64')"
      ]
     },
     "execution_count": 10,
     "metadata": {},
     "output_type": "execute_result"
    }
   ],
   "source": [
    "#view third quarter growth in 2012\n",
    "\n",
    "#create dataframe of ending sales\n",
    "q3 = pd.DataFrame(dataset[(dataset['Date'] == '29-06-2012')]['Weekly_Sales'])\n",
    "q3 = q3.reset_index().drop('index', axis=1)\n",
    "q3.rename(columns = {'Weekly_Sales':'End_Sales'}, inplace = True)\n",
    "\n",
    "#add starting sales\n",
    "a = pd.DataFrame(dataset[(dataset['Date'] == '01-06-2012')]['Weekly_Sales'])\n",
    "a = a.reset_index().drop('index', axis=1)\n",
    "q3['Start_Sales'] = a['Weekly_Sales']\n",
    "\n",
    "#view progression in sales over quarter\n",
    "q3['Diff'] = q3['End_Sales'] - q3['Start_Sales']\n",
    "\n",
    "#view stores with positive growth over third quarter in 2012 \n",
    "print('The following stores had a positive growth rate over the third quarter in 2012:')\n",
    "q3[q3['Diff'] > 0].index + 1"
   ]
  },
  {
   "cell_type": "code",
   "execution_count": 11,
   "id": "1a6b0de4",
   "metadata": {},
   "outputs": [
    {
     "data": {
      "text/plain": [
       "0    5985\n",
       "1     450\n",
       "Name: Holiday_Flag, dtype: int64"
      ]
     },
     "execution_count": 11,
     "metadata": {},
     "output_type": "execute_result"
    }
   ],
   "source": [
    "#Find out holidays which have higher sales than the mean sales in non-holiday season for all stores together\n",
    "dataset.Holiday_Flag.value_counts()"
   ]
  },
  {
   "cell_type": "code",
   "execution_count": 12,
   "id": "6df24938",
   "metadata": {},
   "outputs": [],
   "source": [
    "holidays = dataset[dataset['Holiday_Flag'] == 1]\n",
    "non_holidays = dataset[dataset['Holiday_Flag'] == 0]"
   ]
  },
  {
   "cell_type": "code",
   "execution_count": 43,
   "id": "b9c7ca94",
   "metadata": {},
   "outputs": [
    {
     "name": "stdout",
     "output_type": "stream",
     "text": [
      "The following days yielded much greater sales on average than non-holiday days\n",
      "12-02-2010\n",
      "26-11-2010\n",
      "11-02-2011\n",
      "25-11-2011\n",
      "10-02-2012\n",
      "07-09-2012\n",
      "12-02-2010\n",
      "10-09-2010\n",
      "26-11-2010\n",
      "31-12-2010\n",
      "11-02-2011\n",
      "09-09-2011\n",
      "25-11-2011\n",
      "30-12-2011\n",
      "10-02-2012\n",
      "07-09-2012\n",
      "12-02-2010\n",
      "10-09-2010\n",
      "26-11-2010\n",
      "31-12-2010\n",
      "11-02-2011\n",
      "09-09-2011\n",
      "25-11-2011\n",
      "30-12-2011\n",
      "10-02-2012\n",
      "07-09-2012\n",
      "12-02-2010\n",
      "26-11-2010\n",
      "25-11-2011\n",
      "30-12-2011\n",
      "10-02-2012\n",
      "07-09-2012\n",
      "12-02-2010\n",
      "10-09-2010\n",
      "26-11-2010\n",
      "31-12-2010\n",
      "11-02-2011\n",
      "09-09-2011\n",
      "25-11-2011\n",
      "30-12-2011\n",
      "10-02-2012\n",
      "07-09-2012\n",
      "12-02-2010\n",
      "26-11-2010\n",
      "25-11-2011\n",
      "10-02-2012\n",
      "26-11-2010\n",
      "25-11-2011\n",
      "12-02-2010\n",
      "10-09-2010\n",
      "26-11-2010\n",
      "31-12-2010\n",
      "11-02-2011\n",
      "09-09-2011\n",
      "25-11-2011\n",
      "30-12-2011\n",
      "10-02-2012\n",
      "07-09-2012\n",
      "12-02-2010\n",
      "10-09-2010\n",
      "26-11-2010\n",
      "31-12-2010\n",
      "11-02-2011\n",
      "09-09-2011\n",
      "25-11-2011\n",
      "30-12-2011\n",
      "10-02-2012\n",
      "07-09-2012\n",
      "26-11-2010\n",
      "25-11-2011\n",
      "10-09-2010\n",
      "26-11-2010\n",
      "09-09-2011\n",
      "25-11-2011\n",
      "12-02-2010\n",
      "10-09-2010\n",
      "26-11-2010\n",
      "31-12-2010\n",
      "11-02-2011\n",
      "09-09-2011\n",
      "25-11-2011\n",
      "30-12-2011\n",
      "10-02-2012\n",
      "07-09-2012\n",
      "26-11-2010\n",
      "26-11-2010\n",
      "25-11-2011\n",
      "26-11-2010\n",
      "25-11-2011\n",
      "12-02-2010\n",
      "10-09-2010\n",
      "26-11-2010\n",
      "11-02-2011\n",
      "09-09-2011\n",
      "25-11-2011\n",
      "30-12-2011\n",
      "10-02-2012\n",
      "07-09-2012\n",
      "26-11-2010\n",
      "25-11-2011\n",
      "10-02-2012\n",
      "26-11-2010\n",
      "25-11-2011\n",
      "26-11-2010\n",
      "25-11-2011\n",
      "26-11-2010\n",
      "25-11-2011\n",
      "26-11-2010\n",
      "25-11-2011\n",
      "07-09-2012\n",
      "26-11-2010\n",
      "25-11-2011\n"
     ]
    }
   ],
   "source": [
    "normal_mean_sales = non_holidays['Weekly_Sales'].mean()\n",
    "special_holidays = holidays[holidays['Weekly_Sales'] > 1.5 * normal_mean_sales]\n",
    "\n",
    "print('The following days yielded much greater sales on average than non-holiday days')\n",
    "for day in special_holidays.Date:\n",
    "    print(day)"
   ]
  },
  {
   "cell_type": "code",
   "execution_count": 77,
   "id": "a3ecfdcd",
   "metadata": {},
   "outputs": [
    {
     "data": {
      "text/plain": [
       "<AxesSubplot:xlabel='Month'>"
      ]
     },
     "execution_count": 77,
     "metadata": {},
     "output_type": "execute_result"
    },
    {
     "data": {
      "image/png": "[encoded data removed]",
      "text/plain": [
       "<Figure size 432x288 with 1 Axes>"
      ]
     },
     "metadata": {
      "needs_background": "light"
     },
     "output_type": "display_data"
    }
   ],
   "source": [
    "#Provide monthly view of sales\n",
    "dataset['Month'] = dataset['Date'].str[3:]\n",
    "monthly_view = dataset.groupby('Month').describe()['Weekly_Sales']['mean']\n",
    "monthly_view.plot.bar(x='Month', y='Sales * 10^6')"
   ]
  },
  {
   "cell_type": "code",
   "execution_count": 78,
   "id": "4f1c4938",
   "metadata": {},
   "outputs": [],
   "source": [
    "#Linear regression\n",
    "from sklearn.linear_model import LinearRegression\n",
    "from sklearn.model_selection import train_test_split"
   ]
  },
  {
   "cell_type": "code",
   "execution_count": 80,
   "id": "07d3bfc4",
   "metadata": {},
   "outputs": [
    {
     "data": {
      "text/plain": [
       "Store             int64\n",
       "Date             object\n",
       "Weekly_Sales    float64\n",
       "Holiday_Flag      int64\n",
       "Temperature     float64\n",
       "Fuel_Price      float64\n",
       "CPI             float64\n",
       "Unemployment    float64\n",
       "Month            object\n",
       "dtype: object"
      ]
     },
     "execution_count": 80,
     "metadata": {},
     "output_type": "execute_result"
    }
   ],
   "source": [
    "dataset.dtypes"
   ]
  },
  {
   "cell_type": "code",
   "execution_count": 82,
   "id": "471d1e88",
   "metadata": {},
   "outputs": [
    {
     "data": {
      "text/html": [
       "<div>\n",
       "<style scoped>\n",
       "    .dataframe tbody tr th:only-of-type {\n",
       "        vertical-align: middle;\n",
       "    }\n",
       "\n",
       "    .dataframe tbody tr th {\n",
       "        vertical-align: top;\n",
       "    }\n",
       "\n",
       "    .dataframe thead th {\n",
       "        text-align: right;\n",
       "    }\n",
       "</style>\n",
       "<table border=\"1\" class=\"dataframe\">\n",
       "  <thead>\n",
       "    <tr style=\"text-align: right;\">\n",
       "      <th></th>\n",
       "      <th>Store</th>\n",
       "      <th>Date</th>\n",
       "      <th>Weekly_Sales</th>\n",
       "      <th>Holiday_Flag</th>\n",
       "      <th>Temperature</th>\n",
       "      <th>Fuel_Price</th>\n",
       "      <th>CPI</th>\n",
       "      <th>Unemployment</th>\n",
       "      <th>Month</th>\n",
       "      <th>Day</th>\n",
       "    </tr>\n",
       "  </thead>\n",
       "  <tbody>\n",
       "    <tr>\n",
       "      <th>6430</th>\n",
       "      <td>45</td>\n",
       "      <td>28-09-2012</td>\n",
       "      <td>713173.95</td>\n",
       "      <td>0</td>\n",
       "      <td>64.88</td>\n",
       "      <td>3.997</td>\n",
       "      <td>192.013558</td>\n",
       "      <td>8.684</td>\n",
       "      <td>09-2012</td>\n",
       "      <td>6431</td>\n",
       "    </tr>\n",
       "    <tr>\n",
       "      <th>6431</th>\n",
       "      <td>45</td>\n",
       "      <td>05-10-2012</td>\n",
       "      <td>733455.07</td>\n",
       "      <td>0</td>\n",
       "      <td>64.89</td>\n",
       "      <td>3.985</td>\n",
       "      <td>192.170412</td>\n",
       "      <td>8.667</td>\n",
       "      <td>10-2012</td>\n",
       "      <td>6432</td>\n",
       "    </tr>\n",
       "    <tr>\n",
       "      <th>6432</th>\n",
       "      <td>45</td>\n",
       "      <td>12-10-2012</td>\n",
       "      <td>734464.36</td>\n",
       "      <td>0</td>\n",
       "      <td>54.47</td>\n",
       "      <td>4.000</td>\n",
       "      <td>192.327265</td>\n",
       "      <td>8.667</td>\n",
       "      <td>10-2012</td>\n",
       "      <td>6433</td>\n",
       "    </tr>\n",
       "    <tr>\n",
       "      <th>6433</th>\n",
       "      <td>45</td>\n",
       "      <td>19-10-2012</td>\n",
       "      <td>718125.53</td>\n",
       "      <td>0</td>\n",
       "      <td>56.47</td>\n",
       "      <td>3.969</td>\n",
       "      <td>192.330854</td>\n",
       "      <td>8.667</td>\n",
       "      <td>10-2012</td>\n",
       "      <td>6434</td>\n",
       "    </tr>\n",
       "    <tr>\n",
       "      <th>6434</th>\n",
       "      <td>45</td>\n",
       "      <td>26-10-2012</td>\n",
       "      <td>760281.43</td>\n",
       "      <td>0</td>\n",
       "      <td>58.85</td>\n",
       "      <td>3.882</td>\n",
       "      <td>192.308899</td>\n",
       "      <td>8.667</td>\n",
       "      <td>10-2012</td>\n",
       "      <td>6435</td>\n",
       "    </tr>\n",
       "  </tbody>\n",
       "</table>\n",
       "</div>"
      ],
      "text/plain": [
       "      Store        Date  Weekly_Sales  Holiday_Flag  Temperature  Fuel_Price  \\\n",
       "6430     45  28-09-2012     713173.95             0        64.88       3.997   \n",
       "6431     45  05-10-2012     733455.07             0        64.89       3.985   \n",
       "6432     45  12-10-2012     734464.36             0        54.47       4.000   \n",
       "6433     45  19-10-2012     718125.53             0        56.47       3.969   \n",
       "6434     45  26-10-2012     760281.43             0        58.85       3.882   \n",
       "\n",
       "             CPI  Unemployment    Month   Day  \n",
       "6430  192.013558         8.684  09-2012  6431  \n",
       "6431  192.170412         8.667  10-2012  6432  \n",
       "6432  192.327265         8.667  10-2012  6433  \n",
       "6433  192.330854         8.667  10-2012  6434  \n",
       "6434  192.308899         8.667  10-2012  6435  "
      ]
     },
     "execution_count": 82,
     "metadata": {},
     "output_type": "execute_result"
    }
   ],
   "source": [
    "dataset['Day'] = dataset.index + 1\n",
    "dataset.tail()"
   ]
  },
  {
   "cell_type": "code",
   "execution_count": 106,
   "id": "25dcd0ba",
   "metadata": {},
   "outputs": [
    {
     "data": {
      "text/html": [
       "<div>\n",
       "<style scoped>\n",
       "    .dataframe tbody tr th:only-of-type {\n",
       "        vertical-align: middle;\n",
       "    }\n",
       "\n",
       "    .dataframe tbody tr th {\n",
       "        vertical-align: top;\n",
       "    }\n",
       "\n",
       "    .dataframe thead th {\n",
       "        text-align: right;\n",
       "    }\n",
       "</style>\n",
       "<table border=\"1\" class=\"dataframe\">\n",
       "  <thead>\n",
       "    <tr style=\"text-align: right;\">\n",
       "      <th></th>\n",
       "      <th>Day</th>\n",
       "    </tr>\n",
       "  </thead>\n",
       "  <tbody>\n",
       "    <tr>\n",
       "      <th>0</th>\n",
       "      <td>1</td>\n",
       "    </tr>\n",
       "    <tr>\n",
       "      <th>1</th>\n",
       "      <td>2</td>\n",
       "    </tr>\n",
       "    <tr>\n",
       "      <th>2</th>\n",
       "      <td>3</td>\n",
       "    </tr>\n",
       "    <tr>\n",
       "      <th>3</th>\n",
       "      <td>4</td>\n",
       "    </tr>\n",
       "    <tr>\n",
       "      <th>4</th>\n",
       "      <td>5</td>\n",
       "    </tr>\n",
       "  </tbody>\n",
       "</table>\n",
       "</div>"
      ],
      "text/plain": [
       "   Day\n",
       "0    1\n",
       "1    2\n",
       "2    3\n",
       "3    4\n",
       "4    5"
      ]
     },
     "execution_count": 106,
     "metadata": {},
     "output_type": "execute_result"
    }
   ],
   "source": [
    "x = pd.DataFrame(dataset[dataset['Store'] == 1]['Day'])\n",
    "x.head()"
   ]
  },
  {
   "cell_type": "code",
   "execution_count": 89,
   "id": "920a0285",
   "metadata": {},
   "outputs": [
    {
     "data": {
      "text/plain": [
       "0    1643690.90\n",
       "1    1641957.44\n",
       "2    1611968.17\n",
       "3    1409727.59\n",
       "4    1554806.68\n",
       "Name: Weekly_Sales, dtype: float64"
      ]
     },
     "execution_count": 89,
     "metadata": {},
     "output_type": "execute_result"
    }
   ],
   "source": [
    "y = dataset[dataset['Store'] == 1]['Weekly_Sales']\n",
    "y.head()"
   ]
  },
  {
   "cell_type": "code",
   "execution_count": 107,
   "id": "7e57b406",
   "metadata": {},
   "outputs": [
    {
     "data": {
      "text/plain": [
       "((107, 1), (36, 1), (107,), (36,))"
      ]
     },
     "execution_count": 107,
     "metadata": {},
     "output_type": "execute_result"
    }
   ],
   "source": [
    "x_train, x_test, y_train, y_test = train_test_split(x, y, random_state=3)\n",
    "x_train.shape, x_test.shape, y_train.shape, y_test.shape"
   ]
  },
  {
   "cell_type": "code",
   "execution_count": 130,
   "id": "837cd618",
   "metadata": {},
   "outputs": [
    {
     "data": {
      "text/plain": [
       "array([1525052.05725097, 1508538.07702211, 1505930.60645966,\n",
       "       1542435.19433398, 1538089.41006323, 1561556.64512529,\n",
       "       1536351.09635493, 1516360.48870947, 1620659.31120752,\n",
       "       1623266.78176997, 1576332.31164584, 1539827.72377153,\n",
       "       1553734.23343793, 1578070.62535415, 1592846.2918747 ,\n",
       "       1538958.56691738, 1507668.92016796, 1610229.42895771,\n",
       "       1547650.13545888, 1589369.6644581 , 1612836.89952016,\n",
       "       1515491.33185531, 1565902.42939604, 1575463.15479169,\n",
       "       1510276.39073041, 1552865.07658378, 1564164.11568774,\n",
       "       1526790.37095927, 1608491.11524941, 1574593.99793754,\n",
       "       1530266.99837587, 1611967.74266601, 1618920.99749922,\n",
       "       1607621.95839526, 1569379.05681264, 1522444.58668852])"
      ]
     },
     "execution_count": 130,
     "metadata": {},
     "output_type": "execute_result"
    }
   ],
   "source": [
    "linreg = LinearRegression()\n",
    "linreg.fit(x_train, y_train)\n",
    "y_pred = linreg.predict(x_test)\n",
    "y_pred"
   ]
  },
  {
   "cell_type": "code",
   "execution_count": 131,
   "id": "96050572",
   "metadata": {},
   "outputs": [
    {
     "data": {
      "text/plain": [
       "-13.58994166108146"
      ]
     },
     "execution_count": 131,
     "metadata": {},
     "output_type": "execute_result"
    }
   ],
   "source": [
    "from sklearn import metrics\n",
    "metrics.r2_score(y_pred, y_test)"
   ]
  },
  {
   "cell_type": "code",
   "execution_count": 134,
   "id": "84ac4fab",
   "metadata": {},
   "outputs": [
    {
     "data": {
      "text/html": [
       "<div>\n",
       "<style scoped>\n",
       "    .dataframe tbody tr th:only-of-type {\n",
       "        vertical-align: middle;\n",
       "    }\n",
       "\n",
       "    .dataframe tbody tr th {\n",
       "        vertical-align: top;\n",
       "    }\n",
       "\n",
       "    .dataframe thead th {\n",
       "        text-align: right;\n",
       "    }\n",
       "</style>\n",
       "<table border=\"1\" class=\"dataframe\">\n",
       "  <thead>\n",
       "    <tr style=\"text-align: right;\">\n",
       "      <th></th>\n",
       "      <th>Store</th>\n",
       "      <th>Weekly_Sales</th>\n",
       "      <th>Holiday_Flag</th>\n",
       "      <th>Temperature</th>\n",
       "      <th>Fuel_Price</th>\n",
       "      <th>CPI</th>\n",
       "      <th>Unemployment</th>\n",
       "      <th>Day</th>\n",
       "    </tr>\n",
       "  </thead>\n",
       "  <tbody>\n",
       "    <tr>\n",
       "      <th>0</th>\n",
       "      <td>1</td>\n",
       "      <td>1643690.90</td>\n",
       "      <td>0</td>\n",
       "      <td>42.31</td>\n",
       "      <td>2.572</td>\n",
       "      <td>211.096358</td>\n",
       "      <td>8.106</td>\n",
       "      <td>1</td>\n",
       "    </tr>\n",
       "    <tr>\n",
       "      <th>1</th>\n",
       "      <td>1</td>\n",
       "      <td>1641957.44</td>\n",
       "      <td>1</td>\n",
       "      <td>38.51</td>\n",
       "      <td>2.548</td>\n",
       "      <td>211.242170</td>\n",
       "      <td>8.106</td>\n",
       "      <td>2</td>\n",
       "    </tr>\n",
       "    <tr>\n",
       "      <th>2</th>\n",
       "      <td>1</td>\n",
       "      <td>1611968.17</td>\n",
       "      <td>0</td>\n",
       "      <td>39.93</td>\n",
       "      <td>2.514</td>\n",
       "      <td>211.289143</td>\n",
       "      <td>8.106</td>\n",
       "      <td>3</td>\n",
       "    </tr>\n",
       "    <tr>\n",
       "      <th>3</th>\n",
       "      <td>1</td>\n",
       "      <td>1409727.59</td>\n",
       "      <td>0</td>\n",
       "      <td>46.63</td>\n",
       "      <td>2.561</td>\n",
       "      <td>211.319643</td>\n",
       "      <td>8.106</td>\n",
       "      <td>4</td>\n",
       "    </tr>\n",
       "    <tr>\n",
       "      <th>4</th>\n",
       "      <td>1</td>\n",
       "      <td>1554806.68</td>\n",
       "      <td>0</td>\n",
       "      <td>46.50</td>\n",
       "      <td>2.625</td>\n",
       "      <td>211.350143</td>\n",
       "      <td>8.106</td>\n",
       "      <td>5</td>\n",
       "    </tr>\n",
       "  </tbody>\n",
       "</table>\n",
       "</div>"
      ],
      "text/plain": [
       "   Store  Weekly_Sales  Holiday_Flag  Temperature  Fuel_Price         CPI  \\\n",
       "0      1    1643690.90             0        42.31       2.572  211.096358   \n",
       "1      1    1641957.44             1        38.51       2.548  211.242170   \n",
       "2      1    1611968.17             0        39.93       2.514  211.289143   \n",
       "3      1    1409727.59             0        46.63       2.561  211.319643   \n",
       "4      1    1554806.68             0        46.50       2.625  211.350143   \n",
       "\n",
       "   Unemployment  Day  \n",
       "0         8.106    1  \n",
       "1         8.106    2  \n",
       "2         8.106    3  \n",
       "3         8.106    4  \n",
       "4         8.106    5  "
      ]
     },
     "execution_count": 134,
     "metadata": {},
     "output_type": "execute_result"
    }
   ],
   "source": [
    "#log reg\n",
    "x2 = pd.DataFrame(dataset[dataset['Store'] == 1].drop(['Month', 'Date'], axis=1))\n",
    "x2.head()"
   ]
  },
  {
   "cell_type": "code",
   "execution_count": 133,
   "id": "45c0424e",
   "metadata": {},
   "outputs": [
    {
     "data": {
      "text/plain": [
       "0      1643690.90\n",
       "1      1641957.44\n",
       "2      1611968.17\n",
       "3      1409727.59\n",
       "4      1554806.68\n",
       "          ...    \n",
       "138    1437059.26\n",
       "139    1670785.97\n",
       "140    1573072.81\n",
       "141    1508068.77\n",
       "142    1493659.74\n",
       "Name: Weekly_Sales, Length: 143, dtype: float64"
      ]
     },
     "execution_count": 133,
     "metadata": {},
     "output_type": "execute_result"
    }
   ],
   "source": [
    "y"
   ]
  },
  {
   "cell_type": "code",
   "execution_count": 139,
   "id": "81786c37",
   "metadata": {},
   "outputs": [
    {
     "data": {
      "text/plain": [
       "((107, 8), (36, 8), (107,), (36,))"
      ]
     },
     "execution_count": 139,
     "metadata": {},
     "output_type": "execute_result"
    }
   ],
   "source": [
    "x2_train, x2_test, y2_train, y2_test = train_test_split(x2, y, random_state=3)\n",
    "x2_train.shape, x2_test.shape, y2_train.shape, y2_test.shape"
   ]
  },
  {
   "cell_type": "code",
   "execution_count": 145,
   "id": "5fb075f4",
   "metadata": {},
   "outputs": [
    {
     "data": {
      "text/plain": [
       "array([1371986.6 , 1472515.79, 1409727.59, 1891034.93, 1494479.49,\n",
       "       1428218.27, 1384209.22, 1399662.07, 1661767.33, 1437059.26,\n",
       "       1514259.78, 1955624.11, 1576818.06, 1394561.83, 1319325.59,\n",
       "       1483784.18, 1439541.59, 1630607.  , 1316899.31, 1497462.72,\n",
       "       1769854.16, 1494251.5 , 1438830.15, 1540471.24, 1594968.28,\n",
       "       1553191.63, 1588948.32, 1508237.76, 1624477.58, 1550229.22,\n",
       "       1507460.69, 1540421.49, 1494122.38, 1555444.55, 1396926.82,\n",
       "       1546074.18])"
      ]
     },
     "execution_count": 145,
     "metadata": {},
     "output_type": "execute_result"
    }
   ],
   "source": [
    "linreg2 = LinearRegression()\n",
    "linreg2.fit(x2_train, y2_train)\n",
    "y_pred2 = linreg2.predict(x2_test)\n",
    "y_pred2"
   ]
  },
  {
   "cell_type": "code",
   "execution_count": 147,
   "id": "c4f40f50",
   "metadata": {},
   "outputs": [
    {
     "data": {
      "text/plain": [
       "1.0"
      ]
     },
     "execution_count": 147,
     "metadata": {},
     "output_type": "execute_result"
    }
   ],
   "source": [
    "metrics.r2_score(y_pred2, y2_test)"
   ]
  },
  {
   "cell_type": "code",
   "execution_count": 148,
   "id": "af77f2ff",
   "metadata": {},
   "outputs": [
    {
     "data": {
      "text/plain": [
       "1.0"
      ]
     },
     "execution_count": 148,
     "metadata": {},
     "output_type": "execute_result"
    }
   ],
   "source": [
    "linreg2.score(x2_test, y2_test)"
   ]
  },
  {
   "cell_type": "code",
   "execution_count": 149,
   "id": "5b801cad",
   "metadata": {},
   "outputs": [
    {
     "name": "stdout",
     "output_type": "stream",
     "text": [
      "The second model is significantly better because it takes into account more relevant variables and there is a greater correlation/predictive power\n"
     ]
    }
   ],
   "source": [
    "print('The second model is significantly better because it takes into account more relevant variables and there is a greater correlation/predictive power')"
   ]
  },
  {
   "cell_type": "code",
   "execution_count": null,
   "id": "b79f1ccb",
   "metadata": {},
   "outputs": [],
   "source": []
  }
 ],
 "metadata": {
  "kernelspec": {
   "display_name": "Python 3 (ipykernel)",
   "language": "python",
   "name": "python3"
  },
  "language_info": {
   "codemirror_mode": {
    "name": "ipython",
    "version": 3
   },
   "file_extension": ".py",
   "mimetype": "text/x-python",
   "name": "python",
   "nbconvert_exporter": "python",
   "pygments_lexer": "ipython3",
   "version": "3.9.7"
  }
 },
 "nbformat": 4,
 "nbformat_minor": 5
}

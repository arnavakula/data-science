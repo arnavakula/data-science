{
 "cells": [
  {
   "cell_type": "code",
   "execution_count": 4,
   "id": "5e481a58",
   "metadata": {},
   "outputs": [],
   "source": [
    "from scipy.integrate import quad"
   ]
  },
  {
   "cell_type": "code",
   "execution_count": 5,
   "id": "fc9ac281",
   "metadata": {},
   "outputs": [
    {
     "name": "stdout",
     "output_type": "stream",
     "text": [
      "(3.5, 3.885780586188048e-14)\n"
     ]
    }
   ],
   "source": [
    "#y = ax + b (3x + 2)\n",
    "def function(x, a, b):\n",
    "    return x * a + b\n",
    "\n",
    "print(quad(function, 0, 1, args=(3, 2))) #==> value, estimate of abs error"
   ]
  },
  {
   "cell_type": "markdown",
   "id": "5f8332b9",
   "metadata": {},
   "source": [
    "Optimization: improve system performance by fine tuning process parameters <br>\n",
    "Example algs: bfgs, Nelder-Mead simplex, Newton Conjugate gradient, COBYLA, SLSPQ"
   ]
  },
  {
   "cell_type": "code",
   "execution_count": 6,
   "id": "e01743df",
   "metadata": {},
   "outputs": [
    {
     "name": "stdout",
     "output_type": "stream",
     "text": [
      "Optimization terminated successfully.\n",
      "         Current function value: -3.246394\n",
      "         Iterations: 5\n",
      "         Function evaluations: 18\n",
      "         Gradient evaluations: 9\n"
     ]
    },
    {
     "data": {
      "text/plain": [
       "      fun: -3.2463942726915214\n",
       " hess_inv: array([[0.15445818]])\n",
       "      jac: array([-4.76837158e-07])\n",
       "  message: 'Optimization terminated successfully.'\n",
       "     nfev: 18\n",
       "      nit: 5\n",
       "     njev: 9\n",
       "   status: 0\n",
       "  success: True\n",
       "        x: array([-1.11051058])"
      ]
     },
     "execution_count": 6,
     "metadata": {},
     "output_type": "execute_result"
    }
   ],
   "source": [
    "import numpy as np\n",
    "from scipy import optimize\n",
    "\n",
    "#find minima value of function x^2 + 5sin(x)\n",
    "def function2(x):\n",
    "    return x**2 + 5*np.sin(x)\n",
    "\n",
    "minima = optimize.minimize(function2, x0=2, method='bfgs', options={'disp': True})\n",
    "minima #min at (-1.11, -3.25)"
   ]
  },
  {
   "cell_type": "code",
   "execution_count": null,
   "id": "97dc6498",
   "metadata": {},
   "outputs": [],
   "source": []
  }
 ],
 "metadata": {
  "kernelspec": {
   "display_name": "Python 3 (ipykernel)",
   "language": "python",
   "name": "python3"
  },
  "language_info": {
   "codemirror_mode": {
    "name": "ipython",
    "version": 3
   },
   "file_extension": ".py",
   "mimetype": "text/x-python",
   "name": "python",
   "nbconvert_exporter": "python",
   "pygments_lexer": "ipython3",
   "version": "3.9.7"
  }
 },
 "nbformat": 4,
 "nbformat_minor": 5
}

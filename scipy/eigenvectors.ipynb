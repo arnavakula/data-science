{
 "cells": [
  {
   "cell_type": "code",
   "execution_count": 2,
   "id": "31b8e284",
   "metadata": {},
   "outputs": [],
   "source": [
    "import numpy as np\n",
    "from scipy import linalg "
   ]
  },
  {
   "cell_type": "code",
   "execution_count": 9,
   "id": "34b1be9e",
   "metadata": {},
   "outputs": [
    {
     "name": "stdout",
     "output_type": "stream",
     "text": [
      "[-0.74596669+0.j 14.74596669+0.j]\n",
      "eigenvector 1:  [-0.81220939  0.58336601]\n",
      "eigenvector 2:  [-0.63447346 -0.77294465]\n"
     ]
    }
   ],
   "source": [
    "test_data = np.array([[5, 8], [7, 9]]) #2x2 matrix\n",
    "eigenvalues, eigenvector = linalg.eig(test_data)\n",
    "print(eigenvalues)\n",
    "print('eigenvector 1: ', eigenvector[:,0])\n",
    "print('eigenvector 2: ', eigenvector[:,1])"
   ]
  },
  {
   "cell_type": "code",
   "execution_count": 11,
   "id": "7d90d511",
   "metadata": {},
   "outputs": [],
   "source": [
    "from scipy.stats import norm"
   ]
  },
  {
   "cell_type": "code",
   "execution_count": 13,
   "id": "e51615c4",
   "metadata": {},
   "outputs": [
    {
     "data": {
      "text/plain": [
       "array([7.23165864, 6.40060931, 5.51305424, 6.04153817, 4.29142011,\n",
       "       6.78994705, 4.16579185, 8.90802664, 6.36415907, 6.13586298])"
      ]
     },
     "execution_count": 13,
     "metadata": {},
     "output_type": "execute_result"
    }
   ],
   "source": [
    "#10 random variables from normal distribution\n",
    "norm.rvs(loc=6, scale=1, size=10) #loc = mean, scale = std dev"
   ]
  },
  {
   "cell_type": "code",
   "execution_count": 31,
   "id": "8b61a5f4",
   "metadata": {},
   "outputs": [
    {
     "name": "stdout",
     "output_type": "stream",
     "text": [
      "0.9544997361036416\n"
     ]
    }
   ],
   "source": [
    "print(norm.cdf(2,loc=0, scale=1) - norm.cdf(-2,loc=0, scale=1)) #95% of data within two std devs of mean"
   ]
  },
  {
   "cell_type": "code",
   "execution_count": null,
   "id": "9ea71c34",
   "metadata": {},
   "outputs": [],
   "source": []
  }
 ],
 "metadata": {
  "kernelspec": {
   "display_name": "Python 3 (ipykernel)",
   "language": "python",
   "name": "python3"
  },
  "language_info": {
   "codemirror_mode": {
    "name": "ipython",
    "version": 3
   },
   "file_extension": ".py",
   "mimetype": "text/x-python",
   "name": "python",
   "nbconvert_exporter": "python",
   "pygments_lexer": "ipython3",
   "version": "3.9.7"
  }
 },
 "nbformat": 4,
 "nbformat_minor": 5
}

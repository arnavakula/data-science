{
 "cells": [
  {
   "cell_type": "code",
   "execution_count": 1,
   "id": "a6282571",
   "metadata": {},
   "outputs": [],
   "source": [
    "import numpy as np"
   ]
  },
  {
   "cell_type": "code",
   "execution_count": 10,
   "id": "e5154687",
   "metadata": {},
   "outputs": [
    {
     "name": "stdout",
     "output_type": "stream",
     "text": [
      "['Algeria' 'Angola' 'Argentina' 'Australia']\n",
      "[ 2255.225482    629.9553062 11601.63022   25306.82494  ]\n"
     ]
    }
   ],
   "source": [
    "countries = np.array(['Algeria','Angola','Argentina','Australia','Austria','Bahamas','Bangladesh','Belarus','Belgium','Bhutan','Brazil','Bulgaria','Cambodia','Cameroon','Chile','China','Colombia','Cyprus','Denmark','El Salvador','Estonia','Ethiopia','Fiji','Finland','France','Georgia','Ghana','Grenada','Guinea','Haiti','Honduras','Hungary','India','Indonesia','Ireland','Italy','Japan','Kenya', 'South Korea','Liberia','Malaysia','Mexico', 'Morocco','Nepal','New Zealand','Norway','Pakistan', 'Peru','Qatar','Russia','Singapore','South Africa','Spain','Sweden','Switzerland','Thailand', 'United Arab Emirates','United Kingdom','United States','Uruguay','Venezuela','Vietnam','Zimbabwe'])\n",
    "\n",
    "gdps = np.array([2255.225482,629.9553062,11601.63022,25306.82494,27266.40335,19466.99052,588.3691778,2890.345675,24733.62696,1445.760002,4803.398244,2618.876037,590.4521124,665.7982328,7122.938458,2639.54156,3362.4656,15378.16704,30860.12808,2579.115607,6525.541272,229.6769525,2242.689259,27570.4852,23016.84778,1334.646773,402.6953275,6047.200797,394.1156638,385.5793827,1414.072488,5745.981529,837.7464011,1206.991065,27715.52837,18937.24998,39578.07441,478.2194906,16684.21278,279.2204061,5345.213415,6288.25324,1908.304416,274.8728621,14646.42094,40034.85063,672.1547506,3359.517402,36152.66676,3054.727742,33529.83052,3825.093781,15428.32098,33630.24604,39170.41371,2699.123242,21058.43643,28272.40661,37691.02733,9581.05659,5671.912202,757.4009286,347.7456605])\n",
    "\n",
    "print(countries[0:4])\n",
    "print(gdps[0:4])"
   ]
  },
  {
   "cell_type": "code",
   "execution_count": 12,
   "id": "359fafb8",
   "metadata": {},
   "outputs": [
    {
     "name": "stdout",
     "output_type": "stream",
     "text": [
      "Norway has the highest GDP\n"
     ]
    }
   ],
   "source": [
    "print(countries[gdps.argmax()] + ' has the highest GDP')"
   ]
  },
  {
   "cell_type": "code",
   "execution_count": 14,
   "id": "f5e16f52",
   "metadata": {},
   "outputs": [
    {
     "name": "stdout",
     "output_type": "stream",
     "text": [
      "Ethiopia has the lowest GDP\n"
     ]
    }
   ],
   "source": [
    "print(countries[gdps.argmin()] + ' has the lowest GDP')"
   ]
  },
  {
   "cell_type": "code",
   "execution_count": 27,
   "id": "f14ccf13",
   "metadata": {},
   "outputs": [
    {
     "name": "stdout",
     "output_type": "stream",
     "text": [
      "Algeria's GDP is 2255.225482\n",
      "Angola's GDP is 629.9553062\n",
      "Argentina's GDP is 11601.63022\n",
      "Australia's GDP is 25306.82494\n",
      "Austria's GDP is 27266.40335\n",
      "Bahamas's GDP is 19466.99052\n",
      "Bangladesh's GDP is 588.3691778\n",
      "Belarus's GDP is 2890.345675\n",
      "Belgium's GDP is 24733.62696\n",
      "Bhutan's GDP is 1445.760002\n",
      "Brazil's GDP is 4803.398244\n",
      "Bulgaria's GDP is 2618.876037\n",
      "Cambodia's GDP is 590.4521124\n",
      "Cameroon's GDP is 665.7982328\n",
      "Chile's GDP is 7122.938458\n",
      "China's GDP is 2639.54156\n",
      "Colombia's GDP is 3362.4656\n",
      "Cyprus's GDP is 15378.16704\n",
      "Denmark's GDP is 30860.12808\n",
      "El Salvador's GDP is 2579.115607\n",
      "Estonia's GDP is 6525.541272\n",
      "Ethiopia's GDP is 229.6769525\n",
      "Fiji's GDP is 2242.689259\n",
      "Finland's GDP is 27570.4852\n",
      "France's GDP is 23016.84778\n",
      "Georgia's GDP is 1334.646773\n",
      "Ghana's GDP is 402.6953275\n",
      "Grenada's GDP is 6047.200797\n",
      "Guinea's GDP is 394.1156638\n",
      "Haiti's GDP is 385.5793827\n",
      "Honduras's GDP is 1414.072488\n",
      "Hungary's GDP is 5745.981529\n",
      "India's GDP is 837.7464011\n",
      "Indonesia's GDP is 1206.991065\n",
      "Ireland's GDP is 27715.52837\n",
      "Italy's GDP is 18937.24998\n",
      "Japan's GDP is 39578.07441\n",
      "Kenya's GDP is 478.2194906\n",
      "South Korea's GDP is 16684.21278\n",
      "Liberia's GDP is 279.2204061\n",
      "Malaysia's GDP is 5345.213415\n",
      "Mexico's GDP is 6288.25324\n",
      "Morocco's GDP is 1908.304416\n",
      "Nepal's GDP is 274.8728621\n",
      "New Zealand's GDP is 14646.42094\n",
      "Norway's GDP is 40034.85063\n",
      "Pakistan's GDP is 672.1547506\n",
      "Peru's GDP is 3359.517402\n",
      "Qatar's GDP is 36152.66676\n",
      "Russia's GDP is 3054.727742\n",
      "Singapore's GDP is 33529.83052\n",
      "South Africa's GDP is 3825.093781\n",
      "Spain's GDP is 15428.32098\n",
      "Sweden's GDP is 33630.24604\n",
      "Switzerland's GDP is 39170.41371\n",
      "Thailand's GDP is 2699.123242\n",
      "United Arab Emirates's GDP is 21058.43643\n",
      "United Kingdom's GDP is 28272.40661\n",
      "United States's GDP is 37691.02733\n",
      "Uruguay's GDP is 9581.05659\n",
      "Venezuela's GDP is 5671.912202\n",
      "Vietnam's GDP is 757.4009286\n",
      "Zimbabwe's GDP is 347.7456605\n"
     ]
    }
   ],
   "source": [
    "for i in range(countries.size):\n",
    "    print(countries[i] + \"'s GDP is \" + str(gdps[i]))"
   ]
  },
  {
   "cell_type": "code",
   "execution_count": 38,
   "id": "5e59725e",
   "metadata": {},
   "outputs": [
    {
     "name": "stdout",
     "output_type": "stream",
     "text": [
      "The highest GDP is 40034.85063\n",
      "The lowest GDP is 229.6769525\n",
      "The GDP mean is 11289.409271639683\n",
      "The standardized GDP value is 12743.828910617945\n",
      "The sum of all GDPs is 711232.7841133001\n"
     ]
    }
   ],
   "source": [
    "print(\"The highest GDP is \"+ str(gdps.max()))\n",
    "print(\"The lowest GDP is \" + str(gdps.min()))\n",
    "print(\"The GDP mean is \" + str(gdps.mean()))\n",
    "print(\"The standardized GDP value is \" + str(gdps.std()))\n",
    "print(\"The sum of all GDPs is \" + str(sum(gdps)))"
   ]
  },
  {
   "cell_type": "code",
   "execution_count": null,
   "id": "e7d7ae29",
   "metadata": {},
   "outputs": [],
   "source": []
  }
 ],
 "metadata": {
  "kernelspec": {
   "display_name": "Python 3 (ipykernel)",
   "language": "python",
   "name": "python3"
  },
  "language_info": {
   "codemirror_mode": {
    "name": "ipython",
    "version": 3
   },
   "file_extension": ".py",
   "mimetype": "text/x-python",
   "name": "python",
   "nbconvert_exporter": "python",
   "pygments_lexer": "ipython3",
   "version": "3.9.7"
  }
 },
 "nbformat": 4,
 "nbformat_minor": 5
}

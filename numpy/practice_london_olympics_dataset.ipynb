{
 "cells": [
  {
   "cell_type": "code",
   "execution_count": 1,
   "id": "5f1e19aa",
   "metadata": {},
   "outputs": [],
   "source": [
    "import numpy as np"
   ]
  },
  {
   "cell_type": "code",
   "execution_count": 8,
   "id": "d4cbb8bb",
   "metadata": {},
   "outputs": [],
   "source": [
    "countries = np.array(['Great Britain', 'China', 'Russia', 'United States', 'Korea', 'Japan', 'Germany'])\n",
    "golds = np.array([29, 38, 24, 46, 13, 7, 11])\n",
    "silvers = np.array([17, 28, 25, 28, 8, 14, 11])\n",
    "bronzes = np.array([19, 22, 32, 29, 7, 17, 14])"
   ]
  },
  {
   "cell_type": "code",
   "execution_count": 9,
   "id": "3b37b0a6",
   "metadata": {},
   "outputs": [
    {
     "name": "stdout",
     "output_type": "stream",
     "text": [
      "United States won the most gold medals\n"
     ]
    }
   ],
   "source": [
    "print(countries[golds.argmax()] + \" won the most gold medals\")"
   ]
  },
  {
   "cell_type": "code",
   "execution_count": 12,
   "id": "77f7a74f",
   "metadata": {},
   "outputs": [
    {
     "name": "stdout",
     "output_type": "stream",
     "text": [
      "Great Britain won more than 20 gold medals\n",
      "China won more than 20 gold medals\n",
      "Russia won more than 20 gold medals\n",
      "United States won more than 20 gold medals\n"
     ]
    }
   ],
   "source": [
    "golds_bool = golds > 20\n",
    "for i in range(golds_bool.size):\n",
    "    if golds_bool[i]:\n",
    "        print(countries[i] + \" won more than 20 gold medals\")"
   ]
  },
  {
   "cell_type": "code",
   "execution_count": 14,
   "id": "d09bf6d4",
   "metadata": {},
   "outputs": [
    {
     "name": "stdout",
     "output_type": "stream",
     "text": [
      "Great Britain won 65 total medals\n",
      "China won 88 total medals\n",
      "Russia won 81 total medals\n",
      "United States won 103 total medals\n",
      "Korea won 28 total medals\n",
      "Japan won 38 total medals\n",
      "Germany won 36 total medals\n"
     ]
    }
   ],
   "source": [
    "total_medals = golds + silvers + bronzes\n",
    "for i in range(countries.size):\n",
    "    print(countries[i] + \" won \" + str(total_medals[i]) + \" total medals\")"
   ]
  },
  {
   "cell_type": "code",
   "execution_count": 15,
   "id": "ad9a9b84",
   "metadata": {},
   "outputs": [
    {
     "name": "stdout",
     "output_type": "stream",
     "text": [
      "Great Britain won 29 gold medals\n",
      "China won 38 gold medals\n",
      "Russia won 24 gold medals\n",
      "United States won 46 gold medals\n",
      "Korea won 13 gold medals\n",
      "Japan won 7 gold medals\n",
      "Germany won 11 gold medals\n"
     ]
    }
   ],
   "source": [
    "for i in range(countries.size):\n",
    "    print(countries[i] + \" won \" + str(golds[i]) + \" gold medals\")"
   ]
  },
  {
   "cell_type": "code",
   "execution_count": null,
   "id": "ad8deafd",
   "metadata": {},
   "outputs": [],
   "source": []
  }
 ],
 "metadata": {
  "kernelspec": {
   "display_name": "Python 3 (ipykernel)",
   "language": "python",
   "name": "python3"
  },
  "language_info": {
   "codemirror_mode": {
    "name": "ipython",
    "version": 3
   },
   "file_extension": ".py",
   "mimetype": "text/x-python",
   "name": "python",
   "nbconvert_exporter": "python",
   "pygments_lexer": "ipython3",
   "version": "3.9.7"
  }
 },
 "nbformat": 4,
 "nbformat_minor": 5
}

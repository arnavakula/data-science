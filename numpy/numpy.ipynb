{
 "cells": [
  {
   "cell_type": "code",
   "execution_count": 1,
   "id": "c3c8a399",
   "metadata": {},
   "outputs": [],
   "source": [
    "import numpy as np"
   ]
  },
  {
   "cell_type": "code",
   "execution_count": 2,
   "id": "871a289b",
   "metadata": {},
   "outputs": [
    {
     "name": "stdout",
     "output_type": "stream",
     "text": [
      "[1 2 3 4]\n"
     ]
    }
   ],
   "source": [
    "#create and print array\n",
    "first_array = np.array([1, 2, 3, 4])\n",
    "print(first_array)"
   ]
  },
  {
   "cell_type": "code",
   "execution_count": 8,
   "id": "060b5ad3",
   "metadata": {},
   "outputs": [
    {
     "name": "stdout",
     "output_type": "stream",
     "text": [
      "[ 0  1  2  3  4  5  6  7  8  9 10 11]\n",
      "[[ 0  1  2  3]\n",
      " [ 4  5  6  7]\n",
      " [ 8  9 10 11]]\n",
      "[[[ 0  1  2]\n",
      "  [ 3  4  5]]\n",
      "\n",
      " [[ 6  7  8]\n",
      "  [ 9 10 11]]]\n"
     ]
    }
   ],
   "source": [
    "#reshape array\n",
    "range_array = np.arange(12)\n",
    "print(range_array)\n",
    "\n",
    "range_array_2d = range_array.reshape(3, 4) #x * y = length\n",
    "print(range_array_2d)\n",
    "\n",
    "range_array_3d = range_array.reshape(2, 2, 3) #x * y * z = length\n",
    "print(range_array_3d)"
   ]
  },
  {
   "cell_type": "markdown",
   "id": "9115fd46",
   "metadata": {},
   "source": [
    "Attributes\n",
    "\n",
    "ndim = number of axes (1d, 2d, or 3d?) \n",
    "\n",
    "shape = dimensions (x, y, z)\n",
    "\n",
    "size = number of elements\n",
    "\n",
    "dtype = datatype of elements"
   ]
  },
  {
   "cell_type": "code",
   "execution_count": 15,
   "id": "6a1c1646",
   "metadata": {},
   "outputs": [
    {
     "name": "stdout",
     "output_type": "stream",
     "text": [
      "[[ True False  True  True]\n",
      " [False False  True  True]]\n",
      "[90 90 90 90 90]\n"
     ]
    }
   ],
   "source": [
    "#create boolean array\n",
    "test_scores = np.array([[90, 80, 90, 90], [80, 70, 90, 90]])\n",
    "passing_scores = test_scores > 80\n",
    "print(passing_scores)\n",
    "\n",
    "print(test_scores[test_scores > 80])"
   ]
  },
  {
   "attachments": {
    "image.png": {
     "image/png": "[encoded data removed]"
    }
   },
   "cell_type": "markdown",
   "id": "6b5cf4f8",
   "metadata": {},
   "source": [
    "# Assignment\n",
    "In direct assignment (ex. arr1 = arr2), memory location is shared. Changes affect both arrays. (b and a)\n",
    "\n",
    ".view means both arrays share the same memory location (c and a)\n",
    "\n",
    ".copy creates independent copies (not the same memory location)\n",
    "\n",
    "![image.png](attachment:image.png)"
   ]
  },
  {
   "cell_type": "code",
   "execution_count": 20,
   "id": "ceb87f87",
   "metadata": {},
   "outputs": [
    {
     "data": {
      "text/plain": [
       "array([[ 0,  4,  8],\n",
       "       [ 1,  5,  9],\n",
       "       [ 2,  6, 10],\n",
       "       [ 3,  7, 11]])"
      ]
     },
     "execution_count": 20,
     "metadata": {},
     "output_type": "execute_result"
    }
   ],
   "source": [
    "#shape manipulation\n",
    "np_list = np.arange(12)\n",
    "np_list.resize(3, 4)\n",
    "np_list.transpose() #swap rows and cols"
   ]
  }
 ],
 "metadata": {
  "kernelspec": {
   "display_name": "Python 3 (ipykernel)",
   "language": "python",
   "name": "python3"
  },
  "language_info": {
   "codemirror_mode": {
    "name": "ipython",
    "version": 3
   },
   "file_extension": ".py",
   "mimetype": "text/x-python",
   "name": "python",
   "nbconvert_exporter": "python",
   "pygments_lexer": "ipython3",
   "version": "3.9.7"
  }
 },
 "nbformat": 4,
 "nbformat_minor": 5
}

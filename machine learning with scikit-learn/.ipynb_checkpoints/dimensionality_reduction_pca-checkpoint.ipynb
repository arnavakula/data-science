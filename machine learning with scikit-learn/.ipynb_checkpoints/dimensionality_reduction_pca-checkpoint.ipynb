{
 "cells": [
  {
   "cell_type": "code",
   "execution_count": 1,
   "id": "a15ab8c4",
   "metadata": {},
   "outputs": [],
   "source": [
    "from sklearn.decomposition import PCA\n",
    "from sklearn.datasets import make_blobs"
   ]
  },
  {
   "cell_type": "code",
   "execution_count": 2,
   "id": "d6b88f84",
   "metadata": {},
   "outputs": [],
   "source": [
    "#get sample data, reduce to 10 featuers\n",
    "x, y = make_blobs(n_samples=30, n_features=10, random_state=None)"
   ]
  },
  {
   "cell_type": "code",
   "execution_count": 4,
   "id": "f1c50e83",
   "metadata": {},
   "outputs": [
    {
     "data": {
      "text/plain": [
       "(30, 10)"
      ]
     },
     "execution_count": 4,
     "metadata": {},
     "output_type": "execute_result"
    }
   ],
   "source": [
    "x.shape #30 observations, 10 features each"
   ]
  },
  {
   "cell_type": "code",
   "execution_count": 5,
   "id": "253f6986",
   "metadata": {},
   "outputs": [],
   "source": [
    "pca = PCA(n_components=3)"
   ]
  },
  {
   "cell_type": "code",
   "execution_count": 6,
   "id": "b3e94d10",
   "metadata": {},
   "outputs": [
    {
     "name": "stdout",
     "output_type": "stream",
     "text": [
      "[0.71147498 0.23824166 0.01167045]\n"
     ]
    }
   ],
   "source": [
    "pca.fit(x)\n",
    "\n",
    "#what percentage of variance in the data is caused by each component\n",
    "print(pca.explained_variance_ratio_)"
   ]
  },
  {
   "cell_type": "code",
   "execution_count": 8,
   "id": "71606bba",
   "metadata": {},
   "outputs": [
    {
     "data": {
      "text/plain": [
       "array([ 0.42475744, -0.12098143, -0.46237596,  0.09321678, -0.13485312,\n",
       "        0.36065583,  0.58403323, -0.01765388,  0.06659008, -0.29726254])"
      ]
     },
     "execution_count": 8,
     "metadata": {},
     "output_type": "execute_result"
    }
   ],
   "source": [
    "first_pca = pca.components_[0]\n",
    "first_pca"
   ]
  },
  {
   "cell_type": "code",
   "execution_count": 10,
   "id": "406fc541",
   "metadata": {},
   "outputs": [
    {
     "data": {
      "text/plain": [
       "(30, 3)"
      ]
     },
     "execution_count": 10,
     "metadata": {},
     "output_type": "execute_result"
    }
   ],
   "source": [
    "pca_reduced = pca.transform(x)\n",
    "\n",
    "#reduces number of attributes from 10 to 3\n",
    "pca_reduced.shape "
   ]
  }
 ],
 "metadata": {
  "kernelspec": {
   "display_name": "Python 3 (ipykernel)",
   "language": "python",
   "name": "python3"
  },
  "language_info": {
   "codemirror_mode": {
    "name": "ipython",
    "version": 3
   },
   "file_extension": ".py",
   "mimetype": "text/x-python",
   "name": "python",
   "nbconvert_exporter": "python",
   "pygments_lexer": "ipython3",
   "version": "3.9.7"
  }
 },
 "nbformat": 4,
 "nbformat_minor": 5
}

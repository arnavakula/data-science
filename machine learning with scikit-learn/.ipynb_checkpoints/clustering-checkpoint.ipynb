{
 "cells": [
  {
   "cell_type": "code",
   "execution_count": 1,
   "id": "5cce4044",
   "metadata": {},
   "outputs": [],
   "source": [
    "import numpy as np\n",
    "from sklearn.cluster import KMeans\n",
    "from sklearn.datasets import make_blobs"
   ]
  },
  {
   "cell_type": "code",
   "execution_count": 2,
   "id": "35a37ce7",
   "metadata": {},
   "outputs": [
    {
     "data": {
      "text/plain": [
       "array([0, 0, 2, 0, 2, 1, 0, 1, 2, 0, 2, 2, 1, 2, 2, 1, 2, 1, 0, 0, 0, 2,\n",
       "       2, 1, 1, 0, 2, 1, 1, 2, 2, 2, 2, 1, 0, 0, 1, 0, 2, 0, 2, 1, 1, 0,\n",
       "       1, 0, 0, 1, 1, 0, 1, 2, 1, 2, 2, 1, 1, 0, 2, 0, 2, 2, 1, 0, 1, 2,\n",
       "       2, 1, 2, 2, 2, 0, 2, 0, 1, 1, 2, 2, 2, 1, 1, 0, 1, 1, 1, 2, 0, 0,\n",
       "       2, 2, 0, 0, 1, 1, 0, 0, 1, 0, 1, 2, 0, 1, 1, 2, 2, 2, 2, 2, 1, 0,\n",
       "       1, 0, 0, 1, 2, 1, 0, 1, 0, 0, 0, 2, 2, 1, 2, 0, 0, 0, 2, 1, 0, 0,\n",
       "       0, 0, 1, 2, 2, 0, 2, 0, 1, 2, 0, 1, 0, 1, 0, 1, 0, 1, 0, 1, 1, 0,\n",
       "       1, 2, 1, 0, 2, 0, 0, 0, 2, 2, 0, 1, 2, 0, 1, 0, 1, 0, 1, 2, 1, 2,\n",
       "       0, 2, 1, 0, 2, 2, 2, 0, 1, 1, 2, 1, 1, 1, 2, 1, 1, 0, 0, 2, 2, 0,\n",
       "       1, 1, 1, 2, 1, 0, 0, 2, 0, 0, 1, 2, 1, 1, 2, 2, 0, 2, 1, 1, 2, 2,\n",
       "       0, 1, 0, 1, 1, 2, 1, 1, 0, 0, 2, 2, 0, 2, 0, 1, 0, 1, 0, 0, 2, 2,\n",
       "       2, 2, 1, 2, 1, 1, 0, 2, 0, 0, 1, 1, 0, 0, 0, 2, 2, 0, 0, 2, 1, 2,\n",
       "       0, 0, 0, 1, 2, 0, 0, 0, 2, 1, 2, 1, 1, 2, 1, 0, 2, 2, 0, 2, 2, 1,\n",
       "       0, 1, 2, 2, 0, 1, 1, 2, 2, 1, 1, 0, 1, 2])"
      ]
     },
     "execution_count": 2,
     "metadata": {},
     "output_type": "execute_result"
    }
   ],
   "source": [
    "n_samples = 300\n",
    "random_state = 20 #for initialization of center\n",
    "\n",
    "#take 300 observations, 5 features each -- NO TARGET BC WE ARE USING AN UNSUPERVISED MODEL\n",
    "x, y = make_blobs(n_samples = n_samples, n_features = 5, random_state = None) \n",
    "\n",
    "#create model to group into 3 clusters\n",
    "predict_y = KMeans(n_clusters=3, random_state=random_state).fit_predict(x)\n",
    "\n",
    "predict_y"
   ]
  }
 ],
 "metadata": {
  "kernelspec": {
   "display_name": "Python 3 (ipykernel)",
   "language": "python",
   "name": "python3"
  },
  "language_info": {
   "codemirror_mode": {
    "name": "ipython",
    "version": 3
   },
   "file_extension": ".py",
   "mimetype": "text/x-python",
   "name": "python",
   "nbconvert_exporter": "python",
   "pygments_lexer": "ipython3",
   "version": "3.9.7"
  }
 },
 "nbformat": 4,
 "nbformat_minor": 5
}

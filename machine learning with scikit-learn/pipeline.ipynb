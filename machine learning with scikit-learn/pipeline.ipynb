{
 "cells": [
  {
   "cell_type": "code",
   "execution_count": 2,
   "id": "4cc83efe",
   "metadata": {},
   "outputs": [],
   "source": [
    "#to chain estimators together\n",
    "from sklearn.pipeline import Pipeline\n",
    "\n",
    "#predictive model\n",
    "from sklearn.linear_model import LinearRegression\n",
    "\n",
    "#dimensionality reduction\n",
    "from sklearn.decomposition import PCA"
   ]
  },
  {
   "cell_type": "code",
   "execution_count": 3,
   "id": "7c6561ef",
   "metadata": {},
   "outputs": [],
   "source": [
    "#grouping our models\n",
    "estimator = [('dim_reduction', PCA()), ('linear_model', LinearRegression())]"
   ]
  },
  {
   "cell_type": "code",
   "execution_count": 5,
   "id": "8bc7633f",
   "metadata": {},
   "outputs": [
    {
     "data": {
      "text/plain": [
       "Pipeline(steps=[('dim_reduction', PCA()), ('linear_model', LinearRegression())])"
      ]
     },
     "execution_count": 5,
     "metadata": {},
     "output_type": "execute_result"
    }
   ],
   "source": [
    "#putting them into a pipeline object\n",
    "pipeline_estimator = Pipeline(estimator)\n",
    "\n",
    "pipeline_estimator"
   ]
  },
  {
   "cell_type": "code",
   "execution_count": 6,
   "id": "a8c98c29",
   "metadata": {},
   "outputs": [
    {
     "data": {
      "text/plain": [
       "[('dim_reduction', PCA()), ('linear_model', LinearRegression())]"
      ]
     },
     "execution_count": 6,
     "metadata": {},
     "output_type": "execute_result"
    }
   ],
   "source": [
    "#1st step = dimensionality reduction, 2nd step = linear regression\n",
    "pipeline_estimator.steps"
   ]
  }
 ],
 "metadata": {
  "kernelspec": {
   "display_name": "Python 3 (ipykernel)",
   "language": "python",
   "name": "python3"
  },
  "language_info": {
   "codemirror_mode": {
    "name": "ipython",
    "version": 3
   },
   "file_extension": ".py",
   "mimetype": "text/x-python",
   "name": "python",
   "nbconvert_exporter": "python",
   "pygments_lexer": "ipython3",
   "version": "3.9.7"
  }
 },
 "nbformat": 4,
 "nbformat_minor": 5
}

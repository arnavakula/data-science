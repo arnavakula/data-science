{
 "cells": [
  {
   "cell_type": "code",
   "execution_count": 1,
   "id": "c30034ba",
   "metadata": {},
   "outputs": [],
   "source": [
    "import pandas as pd\n",
    "import numpy as np"
   ]
  },
  {
   "cell_type": "code",
   "execution_count": 10,
   "id": "4400444c",
   "metadata": {},
   "outputs": [],
   "source": [
    "grades = pd.Series([96, 88, 100, 85], index=['p1', 'p2', 'p3','p4'])\n",
    "grades2 = pd.Series([90, 90, 95, 82], index=['p1', 'p3', 'p4', 'p5'])"
   ]
  },
  {
   "cell_type": "code",
   "execution_count": 8,
   "id": "15c36930",
   "metadata": {},
   "outputs": [
    {
     "data": {
      "text/plain": [
       "True"
      ]
     },
     "execution_count": 8,
     "metadata": {},
     "output_type": "execute_result"
    }
   ],
   "source": [
    "grades.iloc[0] == grades[0]"
   ]
  },
  {
   "cell_type": "code",
   "execution_count": 11,
   "id": "6d314bd0",
   "metadata": {},
   "outputs": [
    {
     "data": {
      "text/plain": [
       "p1    186.0\n",
       "p2      NaN\n",
       "p3    190.0\n",
       "p4    180.0\n",
       "p5      NaN\n",
       "dtype: float64"
      ]
     },
     "execution_count": 11,
     "metadata": {},
     "output_type": "execute_result"
    }
   ],
   "source": [
    "grades + grades2"
   ]
  },
  {
   "cell_type": "code",
   "execution_count": 13,
   "id": "8c04da27",
   "metadata": {},
   "outputs": [
    {
     "data": {
      "text/plain": [
       "96"
      ]
     },
     "execution_count": 13,
     "metadata": {},
     "output_type": "execute_result"
    }
   ],
   "source": [
    "grades.loc['p1']"
   ]
  },
  {
   "cell_type": "code",
   "execution_count": null,
   "id": "a093e4b0",
   "metadata": {},
   "outputs": [],
   "source": []
  }
 ],
 "metadata": {
  "kernelspec": {
   "display_name": "Python 3 (ipykernel)",
   "language": "python",
   "name": "python3"
  },
  "language_info": {
   "codemirror_mode": {
    "name": "ipython",
    "version": 3
   },
   "file_extension": ".py",
   "mimetype": "text/x-python",
   "name": "python",
   "nbconvert_exporter": "python",
   "pygments_lexer": "ipython3",
   "version": "3.9.7"
  }
 },
 "nbformat": 4,
 "nbformat_minor": 5
}

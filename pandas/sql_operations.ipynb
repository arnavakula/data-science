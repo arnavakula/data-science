{
 "cells": [
  {
   "cell_type": "code",
   "execution_count": 1,
   "id": "6c593f0d",
   "metadata": {},
   "outputs": [],
   "source": [
    "import pandas as pd\n",
    "import sqlite3"
   ]
  },
  {
   "cell_type": "code",
   "execution_count": 9,
   "id": "1de7584b",
   "metadata": {},
   "outputs": [],
   "source": [
    "create_table = \"\"\"\n",
    "CREATE TABLE student_scores\n",
    "(Id INTEGER, Name VARCHAR(20), Math REAL, Science REAL)\n",
    ";\"\"\""
   ]
  },
  {
   "cell_type": "code",
   "execution_count": 10,
   "id": "a2d14e6a",
   "metadata": {},
   "outputs": [],
   "source": [
    "executeSQL = sqlite3.connect('database.db')\n",
    "executeSQL.execute(create_table) #create our table\n",
    "executeSQL.commit()"
   ]
  },
  {
   "cell_type": "code",
   "execution_count": 11,
   "id": "25db9f90",
   "metadata": {},
   "outputs": [],
   "source": [
    "#prepare our query\n",
    "query = executeSQL.execute('select * from student_scores')"
   ]
  },
  {
   "cell_type": "code",
   "execution_count": 12,
   "id": "5c3b3737",
   "metadata": {},
   "outputs": [
    {
     "data": {
      "text/plain": [
       "[]"
      ]
     },
     "execution_count": 12,
     "metadata": {},
     "output_type": "execute_result"
    }
   ],
   "source": [
    "resultset = query.fetchall()\n",
    "resultset"
   ]
  },
  {
   "cell_type": "code",
   "execution_count": 13,
   "id": "8099aa91",
   "metadata": {},
   "outputs": [],
   "source": [
    "#insert data (id, name, math, science)\n",
    "insert = [(1, 'Jack', 90, 90), (2, 'Jill', 95, 95)]"
   ]
  },
  {
   "cell_type": "code",
   "execution_count": 15,
   "id": "f80f0994",
   "metadata": {},
   "outputs": [],
   "source": [
    "insert_statement = \"Insert into student_scores values(?, ?, ?, ?)\"\n",
    "executeSQL.executemany(insert_statement, insert)\n",
    "executeSQL.commit()"
   ]
  },
  {
   "cell_type": "code",
   "execution_count": 17,
   "id": "fbc5f2ed",
   "metadata": {},
   "outputs": [
    {
     "data": {
      "text/plain": [
       "[(1, 'Jack', 90.0, 90.0), (2, 'Jill', 95.0, 95.0)]"
      ]
     },
     "execution_count": 17,
     "metadata": {},
     "output_type": "execute_result"
    }
   ],
   "source": [
    "query = executeSQL.execute('select * from student_scores')\n",
    "resultset = query.fetchall()\n",
    "resultset"
   ]
  },
  {
   "cell_type": "code",
   "execution_count": 26,
   "id": "941b3fc8",
   "metadata": {},
   "outputs": [
    {
     "data": {
      "text/html": [
       "<div>\n",
       "<style scoped>\n",
       "    .dataframe tbody tr th:only-of-type {\n",
       "        vertical-align: middle;\n",
       "    }\n",
       "\n",
       "    .dataframe tbody tr th {\n",
       "        vertical-align: top;\n",
       "    }\n",
       "\n",
       "    .dataframe thead th {\n",
       "        text-align: right;\n",
       "    }\n",
       "</style>\n",
       "<table border=\"1\" class=\"dataframe\">\n",
       "  <thead>\n",
       "    <tr style=\"text-align: right;\">\n",
       "      <th></th>\n",
       "      <th>((Id, None, None, None, None, None, None),)</th>\n",
       "      <th>((Name, None, None, None, None, None, None),)</th>\n",
       "      <th>((Math, None, None, None, None, None, None),)</th>\n",
       "      <th>((Science, None, None, None, None, None, None),)</th>\n",
       "    </tr>\n",
       "  </thead>\n",
       "  <tbody>\n",
       "    <tr>\n",
       "      <th>0</th>\n",
       "      <td>1</td>\n",
       "      <td>Jack</td>\n",
       "      <td>90.0</td>\n",
       "      <td>90.0</td>\n",
       "    </tr>\n",
       "    <tr>\n",
       "      <th>1</th>\n",
       "      <td>2</td>\n",
       "      <td>Jill</td>\n",
       "      <td>95.0</td>\n",
       "      <td>95.0</td>\n",
       "    </tr>\n",
       "  </tbody>\n",
       "</table>\n",
       "</div>"
      ],
      "text/plain": [
       "   ((Id, None, None, None, None, None, None),)  \\\n",
       "0                                            1   \n",
       "1                                            2   \n",
       "\n",
       "  ((Name, None, None, None, None, None, None),)  \\\n",
       "0                                          Jack   \n",
       "1                                          Jill   \n",
       "\n",
       "   ((Math, None, None, None, None, None, None),)  \\\n",
       "0                                           90.0   \n",
       "1                                           95.0   \n",
       "\n",
       "   ((Science, None, None, None, None, None, None),)  \n",
       "0                                              90.0  \n",
       "1                                              95.0  "
      ]
     },
     "execution_count": 26,
     "metadata": {},
     "output_type": "execute_result"
    }
   ],
   "source": [
    "#transfer to dataframe\n",
    "student_scores = pd.DataFrame(resultset, columns=zip(query.description))\n",
    "student_scores"
   ]
  },
  {
   "cell_type": "code",
   "execution_count": null,
   "id": "a09a7646",
   "metadata": {},
   "outputs": [],
   "source": []
  }
 ],
 "metadata": {
  "kernelspec": {
   "display_name": "Python 3 (ipykernel)",
   "language": "python",
   "name": "python3"
  },
  "language_info": {
   "codemirror_mode": {
    "name": "ipython",
    "version": 3
   },
   "file_extension": ".py",
   "mimetype": "text/x-python",
   "name": "python",
   "nbconvert_exporter": "python",
   "pygments_lexer": "ipython3",
   "version": "3.9.7"
  }
 },
 "nbformat": 4,
 "nbformat_minor": 5
}
